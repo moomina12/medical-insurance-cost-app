{
 "cells": [
  {
   "cell_type": "code",
   "execution_count": 1,
   "id": "0632d8c8",
   "metadata": {},
   "outputs": [],
   "source": [
    "import pickle\n",
    "import pandas as pd\n",
    "import numpy as np\n",
    "import seaborn as sns\n",
    "import matplotlib.pyplot as plt\n",
    "from sklearn.model_selection import train_test_split\n",
    "from sklearn.model_selection import GridSearchCV\n",
    "from sklearn.metrics import r2_score\n",
    "from xgboost import XGBRegressor\n",
    "from sklearn.metrics import mean_absolute_error"
   ]
  },
  {
   "cell_type": "code",
   "execution_count": 2,
   "id": "fc9dfeba",
   "metadata": {},
   "outputs": [],
   "source": [
    "df = pd.read_csv(r\"C:\\Users\\HP\\Desktop\\MISc\\data\\Medical_insurancebyHarshit16oct.csv\")"
   ]
  },
  {
   "cell_type": "code",
   "execution_count": 3,
   "id": "8e772e4b",
   "metadata": {},
   "outputs": [
    {
     "data": {
      "text/html": [
       "<div>\n",
       "<style scoped>\n",
       "    .dataframe tbody tr th:only-of-type {\n",
       "        vertical-align: middle;\n",
       "    }\n",
       "\n",
       "    .dataframe tbody tr th {\n",
       "        vertical-align: top;\n",
       "    }\n",
       "\n",
       "    .dataframe thead th {\n",
       "        text-align: right;\n",
       "    }\n",
       "</style>\n",
       "<table border=\"1\" class=\"dataframe\">\n",
       "  <thead>\n",
       "    <tr style=\"text-align: right;\">\n",
       "      <th></th>\n",
       "      <th>age</th>\n",
       "      <th>sex</th>\n",
       "      <th>bmi</th>\n",
       "      <th>children</th>\n",
       "      <th>smoker</th>\n",
       "      <th>region</th>\n",
       "      <th>charges</th>\n",
       "    </tr>\n",
       "  </thead>\n",
       "  <tbody>\n",
       "    <tr>\n",
       "      <th>0</th>\n",
       "      <td>19</td>\n",
       "      <td>female</td>\n",
       "      <td>27.900</td>\n",
       "      <td>0</td>\n",
       "      <td>yes</td>\n",
       "      <td>southwest</td>\n",
       "      <td>16884.92400</td>\n",
       "    </tr>\n",
       "    <tr>\n",
       "      <th>1</th>\n",
       "      <td>18</td>\n",
       "      <td>male</td>\n",
       "      <td>33.770</td>\n",
       "      <td>1</td>\n",
       "      <td>no</td>\n",
       "      <td>southeast</td>\n",
       "      <td>1725.55230</td>\n",
       "    </tr>\n",
       "    <tr>\n",
       "      <th>2</th>\n",
       "      <td>28</td>\n",
       "      <td>male</td>\n",
       "      <td>33.000</td>\n",
       "      <td>3</td>\n",
       "      <td>no</td>\n",
       "      <td>southeast</td>\n",
       "      <td>4449.46200</td>\n",
       "    </tr>\n",
       "    <tr>\n",
       "      <th>3</th>\n",
       "      <td>33</td>\n",
       "      <td>male</td>\n",
       "      <td>22.705</td>\n",
       "      <td>0</td>\n",
       "      <td>no</td>\n",
       "      <td>northwest</td>\n",
       "      <td>21984.47061</td>\n",
       "    </tr>\n",
       "    <tr>\n",
       "      <th>4</th>\n",
       "      <td>32</td>\n",
       "      <td>male</td>\n",
       "      <td>28.880</td>\n",
       "      <td>0</td>\n",
       "      <td>no</td>\n",
       "      <td>northwest</td>\n",
       "      <td>3866.85520</td>\n",
       "    </tr>\n",
       "  </tbody>\n",
       "</table>\n",
       "</div>"
      ],
      "text/plain": [
       "   age     sex     bmi  children smoker     region      charges\n",
       "0   19  female  27.900         0    yes  southwest  16884.92400\n",
       "1   18    male  33.770         1     no  southeast   1725.55230\n",
       "2   28    male  33.000         3     no  southeast   4449.46200\n",
       "3   33    male  22.705         0     no  northwest  21984.47061\n",
       "4   32    male  28.880         0     no  northwest   3866.85520"
      ]
     },
     "execution_count": 3,
     "metadata": {},
     "output_type": "execute_result"
    }
   ],
   "source": [
    "df.head()"
   ]
  },
  {
   "cell_type": "code",
   "execution_count": 4,
   "id": "9418c5ab",
   "metadata": {},
   "outputs": [
    {
     "data": {
      "text/html": [
       "<div>\n",
       "<style scoped>\n",
       "    .dataframe tbody tr th:only-of-type {\n",
       "        vertical-align: middle;\n",
       "    }\n",
       "\n",
       "    .dataframe tbody tr th {\n",
       "        vertical-align: top;\n",
       "    }\n",
       "\n",
       "    .dataframe thead th {\n",
       "        text-align: right;\n",
       "    }\n",
       "</style>\n",
       "<table border=\"1\" class=\"dataframe\">\n",
       "  <thead>\n",
       "    <tr style=\"text-align: right;\">\n",
       "      <th></th>\n",
       "      <th>age</th>\n",
       "      <th>sex</th>\n",
       "      <th>bmi</th>\n",
       "      <th>children</th>\n",
       "      <th>smoker</th>\n",
       "      <th>region</th>\n",
       "      <th>charges</th>\n",
       "    </tr>\n",
       "  </thead>\n",
       "  <tbody>\n",
       "    <tr>\n",
       "      <th>790</th>\n",
       "      <td>39</td>\n",
       "      <td>female</td>\n",
       "      <td>41.800</td>\n",
       "      <td>0</td>\n",
       "      <td>no</td>\n",
       "      <td>southeast</td>\n",
       "      <td>5662.22500</td>\n",
       "    </tr>\n",
       "    <tr>\n",
       "      <th>252</th>\n",
       "      <td>54</td>\n",
       "      <td>male</td>\n",
       "      <td>34.210</td>\n",
       "      <td>2</td>\n",
       "      <td>yes</td>\n",
       "      <td>southeast</td>\n",
       "      <td>44260.74990</td>\n",
       "    </tr>\n",
       "    <tr>\n",
       "      <th>730</th>\n",
       "      <td>35</td>\n",
       "      <td>male</td>\n",
       "      <td>24.420</td>\n",
       "      <td>3</td>\n",
       "      <td>yes</td>\n",
       "      <td>southeast</td>\n",
       "      <td>19361.99880</td>\n",
       "    </tr>\n",
       "    <tr>\n",
       "      <th>1876</th>\n",
       "      <td>19</td>\n",
       "      <td>female</td>\n",
       "      <td>32.900</td>\n",
       "      <td>0</td>\n",
       "      <td>no</td>\n",
       "      <td>southwest</td>\n",
       "      <td>1748.77400</td>\n",
       "    </tr>\n",
       "    <tr>\n",
       "      <th>2271</th>\n",
       "      <td>32</td>\n",
       "      <td>male</td>\n",
       "      <td>28.930</td>\n",
       "      <td>1</td>\n",
       "      <td>yes</td>\n",
       "      <td>southeast</td>\n",
       "      <td>19719.69470</td>\n",
       "    </tr>\n",
       "    <tr>\n",
       "      <th>2679</th>\n",
       "      <td>46</td>\n",
       "      <td>male</td>\n",
       "      <td>25.745</td>\n",
       "      <td>3</td>\n",
       "      <td>no</td>\n",
       "      <td>northwest</td>\n",
       "      <td>9301.89355</td>\n",
       "    </tr>\n",
       "    <tr>\n",
       "      <th>1963</th>\n",
       "      <td>31</td>\n",
       "      <td>female</td>\n",
       "      <td>38.095</td>\n",
       "      <td>1</td>\n",
       "      <td>yes</td>\n",
       "      <td>northeast</td>\n",
       "      <td>58571.07448</td>\n",
       "    </tr>\n",
       "    <tr>\n",
       "      <th>2327</th>\n",
       "      <td>50</td>\n",
       "      <td>female</td>\n",
       "      <td>46.090</td>\n",
       "      <td>1</td>\n",
       "      <td>no</td>\n",
       "      <td>southeast</td>\n",
       "      <td>9549.56510</td>\n",
       "    </tr>\n",
       "    <tr>\n",
       "      <th>2349</th>\n",
       "      <td>46</td>\n",
       "      <td>male</td>\n",
       "      <td>24.795</td>\n",
       "      <td>3</td>\n",
       "      <td>no</td>\n",
       "      <td>northeast</td>\n",
       "      <td>9500.57305</td>\n",
       "    </tr>\n",
       "    <tr>\n",
       "      <th>1822</th>\n",
       "      <td>22</td>\n",
       "      <td>male</td>\n",
       "      <td>31.730</td>\n",
       "      <td>0</td>\n",
       "      <td>no</td>\n",
       "      <td>northeast</td>\n",
       "      <td>2254.79670</td>\n",
       "    </tr>\n",
       "  </tbody>\n",
       "</table>\n",
       "</div>"
      ],
      "text/plain": [
       "      age     sex     bmi  children smoker     region      charges\n",
       "790    39  female  41.800         0     no  southeast   5662.22500\n",
       "252    54    male  34.210         2    yes  southeast  44260.74990\n",
       "730    35    male  24.420         3    yes  southeast  19361.99880\n",
       "1876   19  female  32.900         0     no  southwest   1748.77400\n",
       "2271   32    male  28.930         1    yes  southeast  19719.69470\n",
       "2679   46    male  25.745         3     no  northwest   9301.89355\n",
       "1963   31  female  38.095         1    yes  northeast  58571.07448\n",
       "2327   50  female  46.090         1     no  southeast   9549.56510\n",
       "2349   46    male  24.795         3     no  northeast   9500.57305\n",
       "1822   22    male  31.730         0     no  northeast   2254.79670"
      ]
     },
     "execution_count": 4,
     "metadata": {},
     "output_type": "execute_result"
    }
   ],
   "source": [
    "df.sample(10)"
   ]
  },
  {
   "cell_type": "code",
   "execution_count": 5,
   "id": "96e5dbea",
   "metadata": {},
   "outputs": [
    {
     "data": {
      "text/plain": [
       "(2772, 7)"
      ]
     },
     "execution_count": 5,
     "metadata": {},
     "output_type": "execute_result"
    }
   ],
   "source": [
    "df.shape"
   ]
  },
  {
   "cell_type": "code",
   "execution_count": 6,
   "id": "e6d3ee73",
   "metadata": {},
   "outputs": [
    {
     "name": "stdout",
     "output_type": "stream",
     "text": [
      "<class 'pandas.core.frame.DataFrame'>\n",
      "RangeIndex: 2772 entries, 0 to 2771\n",
      "Data columns (total 7 columns):\n",
      " #   Column    Non-Null Count  Dtype  \n",
      "---  ------    --------------  -----  \n",
      " 0   age       2772 non-null   int64  \n",
      " 1   sex       2772 non-null   object \n",
      " 2   bmi       2772 non-null   float64\n",
      " 3   children  2772 non-null   int64  \n",
      " 4   smoker    2772 non-null   object \n",
      " 5   region    2772 non-null   object \n",
      " 6   charges   2772 non-null   float64\n",
      "dtypes: float64(2), int64(2), object(3)\n",
      "memory usage: 151.7+ KB\n"
     ]
    }
   ],
   "source": [
    "df.info()"
   ]
  },
  {
   "cell_type": "code",
   "execution_count": 7,
   "id": "47fef214",
   "metadata": {},
   "outputs": [
    {
     "data": {
      "text/plain": [
       "array(['female', 'male'], dtype=object)"
      ]
     },
     "execution_count": 7,
     "metadata": {},
     "output_type": "execute_result"
    }
   ],
   "source": [
    "df['sex'].unique()"
   ]
  },
  {
   "cell_type": "code",
   "execution_count": 8,
   "id": "a12307d7",
   "metadata": {},
   "outputs": [
    {
     "data": {
      "text/plain": [
       "array(['southwest', 'southeast', 'northwest', 'northeast'], dtype=object)"
      ]
     },
     "execution_count": 8,
     "metadata": {},
     "output_type": "execute_result"
    }
   ],
   "source": [
    "df['region'].unique()"
   ]
  },
  {
   "cell_type": "code",
   "execution_count": 9,
   "id": "af95d2fd",
   "metadata": {},
   "outputs": [
    {
     "data": {
      "text/plain": [
       "array(['yes', 'no'], dtype=object)"
      ]
     },
     "execution_count": 9,
     "metadata": {},
     "output_type": "execute_result"
    }
   ],
   "source": [
    "df['smoker'].unique()"
   ]
  },
  {
   "cell_type": "code",
   "execution_count": 10,
   "id": "644e2688",
   "metadata": {},
   "outputs": [
    {
     "data": {
      "text/plain": [
       "array([0, 1, 3, 2, 5, 4], dtype=int64)"
      ]
     },
     "execution_count": 10,
     "metadata": {},
     "output_type": "execute_result"
    }
   ],
   "source": [
    "df['children'].unique()"
   ]
  },
  {
   "cell_type": "code",
   "execution_count": 11,
   "id": "8bd6fd5c",
   "metadata": {},
   "outputs": [
    {
     "data": {
      "text/html": [
       "<div>\n",
       "<style scoped>\n",
       "    .dataframe tbody tr th:only-of-type {\n",
       "        vertical-align: middle;\n",
       "    }\n",
       "\n",
       "    .dataframe tbody tr th {\n",
       "        vertical-align: top;\n",
       "    }\n",
       "\n",
       "    .dataframe thead th {\n",
       "        text-align: right;\n",
       "    }\n",
       "</style>\n",
       "<table border=\"1\" class=\"dataframe\">\n",
       "  <thead>\n",
       "    <tr style=\"text-align: right;\">\n",
       "      <th></th>\n",
       "      <th>age</th>\n",
       "      <th>bmi</th>\n",
       "      <th>children</th>\n",
       "      <th>charges</th>\n",
       "    </tr>\n",
       "  </thead>\n",
       "  <tbody>\n",
       "    <tr>\n",
       "      <th>count</th>\n",
       "      <td>2772.000000</td>\n",
       "      <td>2772.000000</td>\n",
       "      <td>2772.000000</td>\n",
       "      <td>2772.000000</td>\n",
       "    </tr>\n",
       "    <tr>\n",
       "      <th>mean</th>\n",
       "      <td>39.109668</td>\n",
       "      <td>30.701349</td>\n",
       "      <td>1.101732</td>\n",
       "      <td>13261.369959</td>\n",
       "    </tr>\n",
       "    <tr>\n",
       "      <th>std</th>\n",
       "      <td>14.081459</td>\n",
       "      <td>6.129449</td>\n",
       "      <td>1.214806</td>\n",
       "      <td>12151.768945</td>\n",
       "    </tr>\n",
       "    <tr>\n",
       "      <th>min</th>\n",
       "      <td>18.000000</td>\n",
       "      <td>15.960000</td>\n",
       "      <td>0.000000</td>\n",
       "      <td>1121.873900</td>\n",
       "    </tr>\n",
       "    <tr>\n",
       "      <th>25%</th>\n",
       "      <td>26.000000</td>\n",
       "      <td>26.220000</td>\n",
       "      <td>0.000000</td>\n",
       "      <td>4687.797000</td>\n",
       "    </tr>\n",
       "    <tr>\n",
       "      <th>50%</th>\n",
       "      <td>39.000000</td>\n",
       "      <td>30.447500</td>\n",
       "      <td>1.000000</td>\n",
       "      <td>9333.014350</td>\n",
       "    </tr>\n",
       "    <tr>\n",
       "      <th>75%</th>\n",
       "      <td>51.000000</td>\n",
       "      <td>34.770000</td>\n",
       "      <td>2.000000</td>\n",
       "      <td>16577.779500</td>\n",
       "    </tr>\n",
       "    <tr>\n",
       "      <th>max</th>\n",
       "      <td>64.000000</td>\n",
       "      <td>53.130000</td>\n",
       "      <td>5.000000</td>\n",
       "      <td>63770.428010</td>\n",
       "    </tr>\n",
       "  </tbody>\n",
       "</table>\n",
       "</div>"
      ],
      "text/plain": [
       "               age          bmi     children       charges\n",
       "count  2772.000000  2772.000000  2772.000000   2772.000000\n",
       "mean     39.109668    30.701349     1.101732  13261.369959\n",
       "std      14.081459     6.129449     1.214806  12151.768945\n",
       "min      18.000000    15.960000     0.000000   1121.873900\n",
       "25%      26.000000    26.220000     0.000000   4687.797000\n",
       "50%      39.000000    30.447500     1.000000   9333.014350\n",
       "75%      51.000000    34.770000     2.000000  16577.779500\n",
       "max      64.000000    53.130000     5.000000  63770.428010"
      ]
     },
     "execution_count": 11,
     "metadata": {},
     "output_type": "execute_result"
    }
   ],
   "source": [
    "df.describe()"
   ]
  },
  {
   "cell_type": "code",
   "execution_count": 12,
   "id": "dab98b47",
   "metadata": {},
   "outputs": [
    {
     "data": {
      "text/plain": [
       "southeast    766\n",
       "southwest    684\n",
       "northwest    664\n",
       "northeast    658\n",
       "Name: region, dtype: int64"
      ]
     },
     "execution_count": 12,
     "metadata": {},
     "output_type": "execute_result"
    }
   ],
   "source": [
    "df['region'].value_counts()"
   ]
  },
  {
   "cell_type": "code",
   "execution_count": 13,
   "id": "685aab0a",
   "metadata": {},
   "outputs": [
    {
     "data": {
      "text/plain": [
       "array(['southwest', 'southeast', 'northwest', 'northeast'], dtype=object)"
      ]
     },
     "execution_count": 13,
     "metadata": {},
     "output_type": "execute_result"
    }
   ],
   "source": [
    "df['region'].unique()"
   ]
  },
  {
   "cell_type": "code",
   "execution_count": 14,
   "id": "0e0e7339",
   "metadata": {},
   "outputs": [
    {
     "data": {
      "text/plain": [
       "<Axes: xlabel='region', ylabel='charges'>"
      ]
     },
     "execution_count": 14,
     "metadata": {},
     "output_type": "execute_result"
    },
    {
     "data": {
      "image/png": "[encoded data removed]",
      "text/plain": [
       "<Figure size 640x480 with 1 Axes>"
      ]
     },
     "metadata": {},
     "output_type": "display_data"
    }
   ],
   "source": [
    "sns.barplot(data = df, x = 'region', y = 'charges')"
   ]
  },
  {
   "cell_type": "code",
   "execution_count": 15,
   "id": "f0c9d9ab",
   "metadata": {},
   "outputs": [
    {
     "data": {
      "text/plain": [
       "<Axes: xlabel='sex', ylabel='charges'>"
      ]
     },
     "execution_count": 15,
     "metadata": {},
     "output_type": "execute_result"
    },
    {
     "data": {
      "image/png": "[encoded data removed]",
      "text/plain": [
       "<Figure size 640x480 with 1 Axes>"
      ]
     },
     "metadata": {},
     "output_type": "display_data"
    }
   ],
   "source": [
    "sns.barplot(data = df, x = 'sex', y = 'charges')"
   ]
  },
  {
   "cell_type": "code",
   "execution_count": 16,
   "id": "f7c5728d",
   "metadata": {},
   "outputs": [
    {
     "data": {
      "text/plain": [
       "<Axes: xlabel='smoker', ylabel='charges'>"
      ]
     },
     "execution_count": 16,
     "metadata": {},
     "output_type": "execute_result"
    },
    {
     "data": {
      "image/png": "[encoded data removed]",
      "text/plain": [
       "<Figure size 640x480 with 1 Axes>"
      ]
     },
     "metadata": {},
     "output_type": "display_data"
    }
   ],
   "source": [
    "sns.barplot(data = df, y = 'charges', x = 'smoker')"
   ]
  },
  {
   "cell_type": "code",
   "execution_count": 17,
   "id": "297f9d29",
   "metadata": {},
   "outputs": [
    {
     "data": {
      "text/plain": [
       "<Axes: xlabel='children', ylabel='charges'>"
      ]
     },
     "execution_count": 17,
     "metadata": {},
     "output_type": "execute_result"
    },
    {
     "data": {
      "image/png": "[encoded data removed]",
      "text/plain": [
       "<Figure size 640x480 with 1 Axes>"
      ]
     },
     "metadata": {},
     "output_type": "display_data"
    }
   ],
   "source": [
    "sns.barplot(data = df, y = 'charges', x = 'children')"
   ]
  },
  {
   "cell_type": "code",
   "execution_count": 18,
   "id": "028cff13",
   "metadata": {},
   "outputs": [
    {
     "data": {
      "text/plain": [
       "<Axes: xlabel='children', ylabel='charges'>"
      ]
     },
     "execution_count": 18,
     "metadata": {},
     "output_type": "execute_result"
    },
    {
     "data": {
      "image/png": "[encoded data removed]",
      "text/plain": [
       "<Figure size 640x480 with 1 Axes>"
      ]
     },
     "metadata": {},
     "output_type": "display_data"
    }
   ],
   "source": [
    "sns.scatterplot(data = df, x = 'children', y = 'charges')"
   ]
  },
  {
   "cell_type": "code",
   "execution_count": 19,
   "id": "ccb67a88",
   "metadata": {},
   "outputs": [
    {
     "data": {
      "image/png": "[encoded data removed]",
      "text/plain": [
       "<Figure size 1500x800 with 1 Axes>"
      ]
     },
     "metadata": {},
     "output_type": "display_data"
    }
   ],
   "source": [
    "plt.figure(figsize = (15, 8))\n",
    "sns.barplot(data = df, x = 'age', y = 'charges', palette = 'coolwarm')\n",
    "plt.show()"
   ]
  },
  {
   "cell_type": "code",
   "execution_count": 20,
   "id": "71644512",
   "metadata": {},
   "outputs": [],
   "source": [
    "age_bins = [0, 20, 30, 40, 50, 60, 100]\n",
    "age_labels = ['0-20', '21-30', '31-40','41-50', '51-60', '60+']\n",
    "\n",
    "df['age_group'] = pd.cut(df['age'], bins = age_bins, labels= age_labels, right = False)"
   ]
  },
  {
   "cell_type": "code",
   "execution_count": 21,
   "id": "ddd67ca2",
   "metadata": {},
   "outputs": [
    {
     "data": {
      "text/html": [
       "<div>\n",
       "<style scoped>\n",
       "    .dataframe tbody tr th:only-of-type {\n",
       "        vertical-align: middle;\n",
       "    }\n",
       "\n",
       "    .dataframe tbody tr th {\n",
       "        vertical-align: top;\n",
       "    }\n",
       "\n",
       "    .dataframe thead th {\n",
       "        text-align: right;\n",
       "    }\n",
       "</style>\n",
       "<table border=\"1\" class=\"dataframe\">\n",
       "  <thead>\n",
       "    <tr style=\"text-align: right;\">\n",
       "      <th></th>\n",
       "      <th>age</th>\n",
       "      <th>sex</th>\n",
       "      <th>bmi</th>\n",
       "      <th>children</th>\n",
       "      <th>smoker</th>\n",
       "      <th>region</th>\n",
       "      <th>charges</th>\n",
       "      <th>age_group</th>\n",
       "    </tr>\n",
       "  </thead>\n",
       "  <tbody>\n",
       "    <tr>\n",
       "      <th>1454</th>\n",
       "      <td>40</td>\n",
       "      <td>female</td>\n",
       "      <td>36.190</td>\n",
       "      <td>0</td>\n",
       "      <td>no</td>\n",
       "      <td>southeast</td>\n",
       "      <td>5920.10410</td>\n",
       "      <td>41-50</td>\n",
       "    </tr>\n",
       "    <tr>\n",
       "      <th>2696</th>\n",
       "      <td>42</td>\n",
       "      <td>male</td>\n",
       "      <td>26.315</td>\n",
       "      <td>1</td>\n",
       "      <td>no</td>\n",
       "      <td>northwest</td>\n",
       "      <td>6940.90985</td>\n",
       "      <td>41-50</td>\n",
       "    </tr>\n",
       "    <tr>\n",
       "      <th>1935</th>\n",
       "      <td>43</td>\n",
       "      <td>female</td>\n",
       "      <td>46.200</td>\n",
       "      <td>0</td>\n",
       "      <td>yes</td>\n",
       "      <td>southeast</td>\n",
       "      <td>45863.20500</td>\n",
       "      <td>41-50</td>\n",
       "    </tr>\n",
       "    <tr>\n",
       "      <th>2374</th>\n",
       "      <td>34</td>\n",
       "      <td>male</td>\n",
       "      <td>34.675</td>\n",
       "      <td>0</td>\n",
       "      <td>no</td>\n",
       "      <td>northeast</td>\n",
       "      <td>4518.82625</td>\n",
       "      <td>31-40</td>\n",
       "    </tr>\n",
       "    <tr>\n",
       "      <th>709</th>\n",
       "      <td>36</td>\n",
       "      <td>female</td>\n",
       "      <td>27.740</td>\n",
       "      <td>0</td>\n",
       "      <td>no</td>\n",
       "      <td>northeast</td>\n",
       "      <td>5469.00660</td>\n",
       "      <td>31-40</td>\n",
       "    </tr>\n",
       "    <tr>\n",
       "      <th>417</th>\n",
       "      <td>36</td>\n",
       "      <td>female</td>\n",
       "      <td>22.600</td>\n",
       "      <td>2</td>\n",
       "      <td>yes</td>\n",
       "      <td>southwest</td>\n",
       "      <td>18608.26200</td>\n",
       "      <td>31-40</td>\n",
       "    </tr>\n",
       "    <tr>\n",
       "      <th>405</th>\n",
       "      <td>52</td>\n",
       "      <td>female</td>\n",
       "      <td>38.380</td>\n",
       "      <td>2</td>\n",
       "      <td>no</td>\n",
       "      <td>northeast</td>\n",
       "      <td>11396.90020</td>\n",
       "      <td>51-60</td>\n",
       "    </tr>\n",
       "    <tr>\n",
       "      <th>811</th>\n",
       "      <td>33</td>\n",
       "      <td>female</td>\n",
       "      <td>42.940</td>\n",
       "      <td>3</td>\n",
       "      <td>no</td>\n",
       "      <td>northwest</td>\n",
       "      <td>6360.99360</td>\n",
       "      <td>31-40</td>\n",
       "    </tr>\n",
       "    <tr>\n",
       "      <th>2050</th>\n",
       "      <td>64</td>\n",
       "      <td>female</td>\n",
       "      <td>22.990</td>\n",
       "      <td>0</td>\n",
       "      <td>yes</td>\n",
       "      <td>southeast</td>\n",
       "      <td>27037.91410</td>\n",
       "      <td>60+</td>\n",
       "    </tr>\n",
       "    <tr>\n",
       "      <th>1403</th>\n",
       "      <td>23</td>\n",
       "      <td>male</td>\n",
       "      <td>23.845</td>\n",
       "      <td>0</td>\n",
       "      <td>no</td>\n",
       "      <td>northeast</td>\n",
       "      <td>2395.17155</td>\n",
       "      <td>21-30</td>\n",
       "    </tr>\n",
       "  </tbody>\n",
       "</table>\n",
       "</div>"
      ],
      "text/plain": [
       "      age     sex     bmi  children smoker     region      charges age_group\n",
       "1454   40  female  36.190         0     no  southeast   5920.10410     41-50\n",
       "2696   42    male  26.315         1     no  northwest   6940.90985     41-50\n",
       "1935   43  female  46.200         0    yes  southeast  45863.20500     41-50\n",
       "2374   34    male  34.675         0     no  northeast   4518.82625     31-40\n",
       "709    36  female  27.740         0     no  northeast   5469.00660     31-40\n",
       "417    36  female  22.600         2    yes  southwest  18608.26200     31-40\n",
       "405    52  female  38.380         2     no  northeast  11396.90020     51-60\n",
       "811    33  female  42.940         3     no  northwest   6360.99360     31-40\n",
       "2050   64  female  22.990         0    yes  southeast  27037.91410       60+\n",
       "1403   23    male  23.845         0     no  northeast   2395.17155     21-30"
      ]
     },
     "execution_count": 21,
     "metadata": {},
     "output_type": "execute_result"
    }
   ],
   "source": [
    "df.sample(10)"
   ]
  },
  {
   "cell_type": "code",
   "execution_count": 22,
   "id": "58e7e1e2",
   "metadata": {},
   "outputs": [
    {
     "data": {
      "text/plain": [
       "<Axes: xlabel='age_group', ylabel='charges'>"
      ]
     },
     "execution_count": 22,
     "metadata": {},
     "output_type": "execute_result"
    },
    {
     "data": {
      "image/png": "[encoded data removed]",
      "text/plain": [
       "<Figure size 1500x700 with 1 Axes>"
      ]
     },
     "metadata": {},
     "output_type": "display_data"
    }
   ],
   "source": [
    "plt.figure(figsize = (15, 7))\n",
    "sns.barplot(data = df, x = 'age_group', y = 'charges')"
   ]
  },
  {
   "cell_type": "code",
   "execution_count": 23,
   "id": "d79bcad2",
   "metadata": {},
   "outputs": [],
   "source": [
    "bmi_bins = [0, 18.5, 25, 30, 35, 40, 50]\n",
    "bmi_labels = ['Underweight', 'Normal', 'Overweight','Obese Class I', 'Obese Class II', 'Obese Class III']\n",
    "\n",
    "df['bmi_group'] = pd.cut(df['bmi'], bins = bmi_bins, labels= bmi_labels, right = False)"
   ]
  },
  {
   "cell_type": "code",
   "execution_count": 24,
   "id": "ac0df0c8",
   "metadata": {},
   "outputs": [
    {
     "data": {
      "text/html": [
       "<div>\n",
       "<style scoped>\n",
       "    .dataframe tbody tr th:only-of-type {\n",
       "        vertical-align: middle;\n",
       "    }\n",
       "\n",
       "    .dataframe tbody tr th {\n",
       "        vertical-align: top;\n",
       "    }\n",
       "\n",
       "    .dataframe thead th {\n",
       "        text-align: right;\n",
       "    }\n",
       "</style>\n",
       "<table border=\"1\" class=\"dataframe\">\n",
       "  <thead>\n",
       "    <tr style=\"text-align: right;\">\n",
       "      <th></th>\n",
       "      <th>age</th>\n",
       "      <th>sex</th>\n",
       "      <th>bmi</th>\n",
       "      <th>children</th>\n",
       "      <th>smoker</th>\n",
       "      <th>region</th>\n",
       "      <th>charges</th>\n",
       "      <th>age_group</th>\n",
       "      <th>bmi_group</th>\n",
       "    </tr>\n",
       "  </thead>\n",
       "  <tbody>\n",
       "    <tr>\n",
       "      <th>0</th>\n",
       "      <td>19</td>\n",
       "      <td>female</td>\n",
       "      <td>27.900</td>\n",
       "      <td>0</td>\n",
       "      <td>yes</td>\n",
       "      <td>southwest</td>\n",
       "      <td>16884.92400</td>\n",
       "      <td>0-20</td>\n",
       "      <td>Overweight</td>\n",
       "    </tr>\n",
       "    <tr>\n",
       "      <th>1</th>\n",
       "      <td>18</td>\n",
       "      <td>male</td>\n",
       "      <td>33.770</td>\n",
       "      <td>1</td>\n",
       "      <td>no</td>\n",
       "      <td>southeast</td>\n",
       "      <td>1725.55230</td>\n",
       "      <td>0-20</td>\n",
       "      <td>Obese Class I</td>\n",
       "    </tr>\n",
       "    <tr>\n",
       "      <th>2</th>\n",
       "      <td>28</td>\n",
       "      <td>male</td>\n",
       "      <td>33.000</td>\n",
       "      <td>3</td>\n",
       "      <td>no</td>\n",
       "      <td>southeast</td>\n",
       "      <td>4449.46200</td>\n",
       "      <td>21-30</td>\n",
       "      <td>Obese Class I</td>\n",
       "    </tr>\n",
       "    <tr>\n",
       "      <th>3</th>\n",
       "      <td>33</td>\n",
       "      <td>male</td>\n",
       "      <td>22.705</td>\n",
       "      <td>0</td>\n",
       "      <td>no</td>\n",
       "      <td>northwest</td>\n",
       "      <td>21984.47061</td>\n",
       "      <td>31-40</td>\n",
       "      <td>Normal</td>\n",
       "    </tr>\n",
       "    <tr>\n",
       "      <th>4</th>\n",
       "      <td>32</td>\n",
       "      <td>male</td>\n",
       "      <td>28.880</td>\n",
       "      <td>0</td>\n",
       "      <td>no</td>\n",
       "      <td>northwest</td>\n",
       "      <td>3866.85520</td>\n",
       "      <td>31-40</td>\n",
       "      <td>Overweight</td>\n",
       "    </tr>\n",
       "  </tbody>\n",
       "</table>\n",
       "</div>"
      ],
      "text/plain": [
       "   age     sex     bmi  children smoker     region      charges age_group  \\\n",
       "0   19  female  27.900         0    yes  southwest  16884.92400      0-20   \n",
       "1   18    male  33.770         1     no  southeast   1725.55230      0-20   \n",
       "2   28    male  33.000         3     no  southeast   4449.46200     21-30   \n",
       "3   33    male  22.705         0     no  northwest  21984.47061     31-40   \n",
       "4   32    male  28.880         0     no  northwest   3866.85520     31-40   \n",
       "\n",
       "       bmi_group  \n",
       "0     Overweight  \n",
       "1  Obese Class I  \n",
       "2  Obese Class I  \n",
       "3         Normal  \n",
       "4     Overweight  "
      ]
     },
     "execution_count": 24,
     "metadata": {},
     "output_type": "execute_result"
    }
   ],
   "source": [
    "df.head()"
   ]
  },
  {
   "cell_type": "code",
   "execution_count": 25,
   "id": "61aa1842",
   "metadata": {},
   "outputs": [
    {
     "data": {
      "text/plain": [
       "<Axes: xlabel='bmi_group', ylabel='charges'>"
      ]
     },
     "execution_count": 25,
     "metadata": {},
     "output_type": "execute_result"
    },
    {
     "data": {
      "image/png": "[encoded data removed]",
      "text/plain": [
       "<Figure size 1500x700 with 1 Axes>"
      ]
     },
     "metadata": {},
     "output_type": "display_data"
    }
   ],
   "source": [
    "plt.figure(figsize = (15, 7))\n",
    "sns.barplot(data = df, x = 'bmi_group', y = 'charges')"
   ]
  },
  {
   "cell_type": "code",
   "execution_count": 26,
   "id": "b6ed2271",
   "metadata": {},
   "outputs": [
    {
     "data": {
      "text/plain": [
       "<Axes: xlabel='bmi_group', ylabel='count'>"
      ]
     },
     "execution_count": 26,
     "metadata": {},
     "output_type": "execute_result"
    },
    {
     "data": {
      "image/png": "[encoded data removed]",
      "text/plain": [
       "<Figure size 1500x700 with 1 Axes>"
      ]
     },
     "metadata": {},
     "output_type": "display_data"
    }
   ],
   "source": [
    "sns.set_style('whitegrid')\n",
    "plt.figure(figsize = (15, 7))\n",
    "sns.countplot(data = df, x = 'bmi_group', palette = 'Set2')"
   ]
  },
  {
   "cell_type": "code",
   "execution_count": 27,
   "id": "3b4fb1af",
   "metadata": {},
   "outputs": [
    {
     "data": {
      "text/html": [
       "<div>\n",
       "<style scoped>\n",
       "    .dataframe tbody tr th:only-of-type {\n",
       "        vertical-align: middle;\n",
       "    }\n",
       "\n",
       "    .dataframe tbody tr th {\n",
       "        vertical-align: top;\n",
       "    }\n",
       "\n",
       "    .dataframe thead th {\n",
       "        text-align: right;\n",
       "    }\n",
       "</style>\n",
       "<table border=\"1\" class=\"dataframe\">\n",
       "  <thead>\n",
       "    <tr style=\"text-align: right;\">\n",
       "      <th></th>\n",
       "      <th>age</th>\n",
       "      <th>bmi</th>\n",
       "      <th>children</th>\n",
       "      <th>charges</th>\n",
       "    </tr>\n",
       "  </thead>\n",
       "  <tbody>\n",
       "    <tr>\n",
       "      <th>age</th>\n",
       "      <td>1.000000</td>\n",
       "      <td>0.113048</td>\n",
       "      <td>0.037574</td>\n",
       "      <td>0.298624</td>\n",
       "    </tr>\n",
       "    <tr>\n",
       "      <th>bmi</th>\n",
       "      <td>0.113048</td>\n",
       "      <td>1.000000</td>\n",
       "      <td>-0.001492</td>\n",
       "      <td>0.199846</td>\n",
       "    </tr>\n",
       "    <tr>\n",
       "      <th>children</th>\n",
       "      <td>0.037574</td>\n",
       "      <td>-0.001492</td>\n",
       "      <td>1.000000</td>\n",
       "      <td>0.066442</td>\n",
       "    </tr>\n",
       "    <tr>\n",
       "      <th>charges</th>\n",
       "      <td>0.298624</td>\n",
       "      <td>0.199846</td>\n",
       "      <td>0.066442</td>\n",
       "      <td>1.000000</td>\n",
       "    </tr>\n",
       "  </tbody>\n",
       "</table>\n",
       "</div>"
      ],
      "text/plain": [
       "               age       bmi  children   charges\n",
       "age       1.000000  0.113048  0.037574  0.298624\n",
       "bmi       0.113048  1.000000 -0.001492  0.199846\n",
       "children  0.037574 -0.001492  1.000000  0.066442\n",
       "charges   0.298624  0.199846  0.066442  1.000000"
      ]
     },
     "execution_count": 27,
     "metadata": {},
     "output_type": "execute_result"
    }
   ],
   "source": [
    "corr = df.corr(numeric_only = True)\n",
    "corr"
   ]
  },
  {
   "cell_type": "code",
   "execution_count": 28,
   "id": "f504916f",
   "metadata": {},
   "outputs": [
    {
     "data": {
      "image/png": "[encoded data removed]",
      "text/plain": [
       "<Figure size 640x480 with 2 Axes>"
      ]
     },
     "metadata": {},
     "output_type": "display_data"
    }
   ],
   "source": [
    "sns.heatmap(corr, annot = True, cmap = 'coolwarm', linecolor = 'black', linewidths = 1, fmt = '.2f')\n",
    "plt.show()"
   ]
  },
  {
   "cell_type": "code",
   "execution_count": 29,
   "id": "62deea1f",
   "metadata": {},
   "outputs": [
    {
     "data": {
      "text/html": [
       "<div>\n",
       "<style scoped>\n",
       "    .dataframe tbody tr th:only-of-type {\n",
       "        vertical-align: middle;\n",
       "    }\n",
       "\n",
       "    .dataframe tbody tr th {\n",
       "        vertical-align: top;\n",
       "    }\n",
       "\n",
       "    .dataframe thead th {\n",
       "        text-align: right;\n",
       "    }\n",
       "</style>\n",
       "<table border=\"1\" class=\"dataframe\">\n",
       "  <thead>\n",
       "    <tr style=\"text-align: right;\">\n",
       "      <th></th>\n",
       "      <th>age</th>\n",
       "      <th>sex</th>\n",
       "      <th>bmi</th>\n",
       "      <th>children</th>\n",
       "      <th>smoker</th>\n",
       "      <th>region</th>\n",
       "      <th>charges</th>\n",
       "      <th>age_group</th>\n",
       "      <th>bmi_group</th>\n",
       "    </tr>\n",
       "  </thead>\n",
       "  <tbody>\n",
       "    <tr>\n",
       "      <th>0</th>\n",
       "      <td>19</td>\n",
       "      <td>female</td>\n",
       "      <td>27.900</td>\n",
       "      <td>0</td>\n",
       "      <td>yes</td>\n",
       "      <td>southwest</td>\n",
       "      <td>16884.92400</td>\n",
       "      <td>0-20</td>\n",
       "      <td>Overweight</td>\n",
       "    </tr>\n",
       "    <tr>\n",
       "      <th>1</th>\n",
       "      <td>18</td>\n",
       "      <td>male</td>\n",
       "      <td>33.770</td>\n",
       "      <td>1</td>\n",
       "      <td>no</td>\n",
       "      <td>southeast</td>\n",
       "      <td>1725.55230</td>\n",
       "      <td>0-20</td>\n",
       "      <td>Obese Class I</td>\n",
       "    </tr>\n",
       "    <tr>\n",
       "      <th>2</th>\n",
       "      <td>28</td>\n",
       "      <td>male</td>\n",
       "      <td>33.000</td>\n",
       "      <td>3</td>\n",
       "      <td>no</td>\n",
       "      <td>southeast</td>\n",
       "      <td>4449.46200</td>\n",
       "      <td>21-30</td>\n",
       "      <td>Obese Class I</td>\n",
       "    </tr>\n",
       "    <tr>\n",
       "      <th>3</th>\n",
       "      <td>33</td>\n",
       "      <td>male</td>\n",
       "      <td>22.705</td>\n",
       "      <td>0</td>\n",
       "      <td>no</td>\n",
       "      <td>northwest</td>\n",
       "      <td>21984.47061</td>\n",
       "      <td>31-40</td>\n",
       "      <td>Normal</td>\n",
       "    </tr>\n",
       "    <tr>\n",
       "      <th>4</th>\n",
       "      <td>32</td>\n",
       "      <td>male</td>\n",
       "      <td>28.880</td>\n",
       "      <td>0</td>\n",
       "      <td>no</td>\n",
       "      <td>northwest</td>\n",
       "      <td>3866.85520</td>\n",
       "      <td>31-40</td>\n",
       "      <td>Overweight</td>\n",
       "    </tr>\n",
       "  </tbody>\n",
       "</table>\n",
       "</div>"
      ],
      "text/plain": [
       "   age     sex     bmi  children smoker     region      charges age_group  \\\n",
       "0   19  female  27.900         0    yes  southwest  16884.92400      0-20   \n",
       "1   18    male  33.770         1     no  southeast   1725.55230      0-20   \n",
       "2   28    male  33.000         3     no  southeast   4449.46200     21-30   \n",
       "3   33    male  22.705         0     no  northwest  21984.47061     31-40   \n",
       "4   32    male  28.880         0     no  northwest   3866.85520     31-40   \n",
       "\n",
       "       bmi_group  \n",
       "0     Overweight  \n",
       "1  Obese Class I  \n",
       "2  Obese Class I  \n",
       "3         Normal  \n",
       "4     Overweight  "
      ]
     },
     "execution_count": 29,
     "metadata": {},
     "output_type": "execute_result"
    }
   ],
   "source": [
    "df.head()"
   ]
  },
  {
   "cell_type": "code",
   "execution_count": 30,
   "id": "0a723b8d",
   "metadata": {},
   "outputs": [],
   "source": [
    "df.drop(columns = ['region'], inplace = True)"
   ]
  },
  {
   "cell_type": "code",
   "execution_count": 31,
   "id": "a5c1d757",
   "metadata": {},
   "outputs": [],
   "source": [
    "df = df.iloc[:, 0:7]"
   ]
  },
  {
   "cell_type": "code",
   "execution_count": 32,
   "id": "bf9337f0",
   "metadata": {},
   "outputs": [
    {
     "data": {
      "text/html": [
       "<div>\n",
       "<style scoped>\n",
       "    .dataframe tbody tr th:only-of-type {\n",
       "        vertical-align: middle;\n",
       "    }\n",
       "\n",
       "    .dataframe tbody tr th {\n",
       "        vertical-align: top;\n",
       "    }\n",
       "\n",
       "    .dataframe thead th {\n",
       "        text-align: right;\n",
       "    }\n",
       "</style>\n",
       "<table border=\"1\" class=\"dataframe\">\n",
       "  <thead>\n",
       "    <tr style=\"text-align: right;\">\n",
       "      <th></th>\n",
       "      <th>age</th>\n",
       "      <th>sex</th>\n",
       "      <th>bmi</th>\n",
       "      <th>children</th>\n",
       "      <th>smoker</th>\n",
       "      <th>charges</th>\n",
       "      <th>age_group</th>\n",
       "    </tr>\n",
       "  </thead>\n",
       "  <tbody>\n",
       "    <tr>\n",
       "      <th>0</th>\n",
       "      <td>19</td>\n",
       "      <td>female</td>\n",
       "      <td>27.900</td>\n",
       "      <td>0</td>\n",
       "      <td>yes</td>\n",
       "      <td>16884.92400</td>\n",
       "      <td>0-20</td>\n",
       "    </tr>\n",
       "    <tr>\n",
       "      <th>1</th>\n",
       "      <td>18</td>\n",
       "      <td>male</td>\n",
       "      <td>33.770</td>\n",
       "      <td>1</td>\n",
       "      <td>no</td>\n",
       "      <td>1725.55230</td>\n",
       "      <td>0-20</td>\n",
       "    </tr>\n",
       "    <tr>\n",
       "      <th>2</th>\n",
       "      <td>28</td>\n",
       "      <td>male</td>\n",
       "      <td>33.000</td>\n",
       "      <td>3</td>\n",
       "      <td>no</td>\n",
       "      <td>4449.46200</td>\n",
       "      <td>21-30</td>\n",
       "    </tr>\n",
       "    <tr>\n",
       "      <th>3</th>\n",
       "      <td>33</td>\n",
       "      <td>male</td>\n",
       "      <td>22.705</td>\n",
       "      <td>0</td>\n",
       "      <td>no</td>\n",
       "      <td>21984.47061</td>\n",
       "      <td>31-40</td>\n",
       "    </tr>\n",
       "    <tr>\n",
       "      <th>4</th>\n",
       "      <td>32</td>\n",
       "      <td>male</td>\n",
       "      <td>28.880</td>\n",
       "      <td>0</td>\n",
       "      <td>no</td>\n",
       "      <td>3866.85520</td>\n",
       "      <td>31-40</td>\n",
       "    </tr>\n",
       "  </tbody>\n",
       "</table>\n",
       "</div>"
      ],
      "text/plain": [
       "   age     sex     bmi  children smoker      charges age_group\n",
       "0   19  female  27.900         0    yes  16884.92400      0-20\n",
       "1   18    male  33.770         1     no   1725.55230      0-20\n",
       "2   28    male  33.000         3     no   4449.46200     21-30\n",
       "3   33    male  22.705         0     no  21984.47061     31-40\n",
       "4   32    male  28.880         0     no   3866.85520     31-40"
      ]
     },
     "execution_count": 32,
     "metadata": {},
     "output_type": "execute_result"
    }
   ],
   "source": [
    "df.head()"
   ]
  },
  {
   "cell_type": "code",
   "execution_count": 33,
   "id": "84dbf7b0",
   "metadata": {},
   "outputs": [],
   "source": [
    "df['smoker'] = df['smoker'].replace({'yes':1, 'no':0})\n",
    "df['sex'] = df['sex'].replace({'male':1, 'female': 0})"
   ]
  },
  {
   "cell_type": "code",
   "execution_count": 34,
   "id": "faedc071",
   "metadata": {},
   "outputs": [
    {
     "data": {
      "text/html": [
       "<div>\n",
       "<style scoped>\n",
       "    .dataframe tbody tr th:only-of-type {\n",
       "        vertical-align: middle;\n",
       "    }\n",
       "\n",
       "    .dataframe tbody tr th {\n",
       "        vertical-align: top;\n",
       "    }\n",
       "\n",
       "    .dataframe thead th {\n",
       "        text-align: right;\n",
       "    }\n",
       "</style>\n",
       "<table border=\"1\" class=\"dataframe\">\n",
       "  <thead>\n",
       "    <tr style=\"text-align: right;\">\n",
       "      <th></th>\n",
       "      <th>age</th>\n",
       "      <th>sex</th>\n",
       "      <th>bmi</th>\n",
       "      <th>children</th>\n",
       "      <th>smoker</th>\n",
       "      <th>charges</th>\n",
       "      <th>age_group</th>\n",
       "    </tr>\n",
       "  </thead>\n",
       "  <tbody>\n",
       "    <tr>\n",
       "      <th>969</th>\n",
       "      <td>39</td>\n",
       "      <td>0</td>\n",
       "      <td>34.32</td>\n",
       "      <td>5</td>\n",
       "      <td>0</td>\n",
       "      <td>8596.82780</td>\n",
       "      <td>31-40</td>\n",
       "    </tr>\n",
       "    <tr>\n",
       "      <th>1708</th>\n",
       "      <td>34</td>\n",
       "      <td>1</td>\n",
       "      <td>30.80</td>\n",
       "      <td>0</td>\n",
       "      <td>1</td>\n",
       "      <td>35491.64000</td>\n",
       "      <td>31-40</td>\n",
       "    </tr>\n",
       "    <tr>\n",
       "      <th>1428</th>\n",
       "      <td>41</td>\n",
       "      <td>1</td>\n",
       "      <td>21.78</td>\n",
       "      <td>1</td>\n",
       "      <td>0</td>\n",
       "      <td>6272.47720</td>\n",
       "      <td>41-50</td>\n",
       "    </tr>\n",
       "    <tr>\n",
       "      <th>1139</th>\n",
       "      <td>19</td>\n",
       "      <td>0</td>\n",
       "      <td>32.49</td>\n",
       "      <td>0</td>\n",
       "      <td>1</td>\n",
       "      <td>36898.73308</td>\n",
       "      <td>0-20</td>\n",
       "    </tr>\n",
       "    <tr>\n",
       "      <th>1846</th>\n",
       "      <td>49</td>\n",
       "      <td>0</td>\n",
       "      <td>36.63</td>\n",
       "      <td>3</td>\n",
       "      <td>0</td>\n",
       "      <td>10381.47870</td>\n",
       "      <td>41-50</td>\n",
       "    </tr>\n",
       "    <tr>\n",
       "      <th>2196</th>\n",
       "      <td>46</td>\n",
       "      <td>0</td>\n",
       "      <td>30.80</td>\n",
       "      <td>3</td>\n",
       "      <td>0</td>\n",
       "      <td>9414.92000</td>\n",
       "      <td>41-50</td>\n",
       "    </tr>\n",
       "    <tr>\n",
       "      <th>1111</th>\n",
       "      <td>38</td>\n",
       "      <td>1</td>\n",
       "      <td>38.39</td>\n",
       "      <td>3</td>\n",
       "      <td>1</td>\n",
       "      <td>41949.24410</td>\n",
       "      <td>31-40</td>\n",
       "    </tr>\n",
       "    <tr>\n",
       "      <th>2080</th>\n",
       "      <td>27</td>\n",
       "      <td>0</td>\n",
       "      <td>34.80</td>\n",
       "      <td>1</td>\n",
       "      <td>0</td>\n",
       "      <td>3577.99900</td>\n",
       "      <td>21-30</td>\n",
       "    </tr>\n",
       "    <tr>\n",
       "      <th>1344</th>\n",
       "      <td>56</td>\n",
       "      <td>1</td>\n",
       "      <td>40.30</td>\n",
       "      <td>0</td>\n",
       "      <td>0</td>\n",
       "      <td>10602.38500</td>\n",
       "      <td>51-60</td>\n",
       "    </tr>\n",
       "    <tr>\n",
       "      <th>1757</th>\n",
       "      <td>57</td>\n",
       "      <td>0</td>\n",
       "      <td>22.23</td>\n",
       "      <td>0</td>\n",
       "      <td>0</td>\n",
       "      <td>12029.28670</td>\n",
       "      <td>51-60</td>\n",
       "    </tr>\n",
       "  </tbody>\n",
       "</table>\n",
       "</div>"
      ],
      "text/plain": [
       "      age  sex    bmi  children  smoker      charges age_group\n",
       "969    39    0  34.32         5       0   8596.82780     31-40\n",
       "1708   34    1  30.80         0       1  35491.64000     31-40\n",
       "1428   41    1  21.78         1       0   6272.47720     41-50\n",
       "1139   19    0  32.49         0       1  36898.73308      0-20\n",
       "1846   49    0  36.63         3       0  10381.47870     41-50\n",
       "2196   46    0  30.80         3       0   9414.92000     41-50\n",
       "1111   38    1  38.39         3       1  41949.24410     31-40\n",
       "2080   27    0  34.80         1       0   3577.99900     21-30\n",
       "1344   56    1  40.30         0       0  10602.38500     51-60\n",
       "1757   57    0  22.23         0       0  12029.28670     51-60"
      ]
     },
     "execution_count": 34,
     "metadata": {},
     "output_type": "execute_result"
    }
   ],
   "source": [
    "df.sample(10)"
   ]
  },
  {
   "cell_type": "code",
   "execution_count": 35,
   "id": "e1170bc6",
   "metadata": {},
   "outputs": [],
   "source": [
    "X = df.drop(columns = ['charges', 'children', 'sex', 'age_group'])\n",
    "y = df['charges']"
   ]
  },
  {
   "cell_type": "code",
   "execution_count": 36,
   "id": "69f077f3",
   "metadata": {},
   "outputs": [],
   "source": [
    "x_train, x_test, y_train, y_test = train_test_split(X, y, test_size = 0.2, random_state = 42)"
   ]
  },
  {
   "cell_type": "code",
   "execution_count": 37,
   "id": "084b51ab",
   "metadata": {},
   "outputs": [],
   "source": [
    "df = pd.merge(x_test, y_test, how = 'inner', left_index = True, right_index = True)"
   ]
  },
  {
   "cell_type": "code",
   "execution_count": 38,
   "id": "18b6ba5f",
   "metadata": {},
   "outputs": [
    {
     "data": {
      "text/html": [
       "<div>\n",
       "<style scoped>\n",
       "    .dataframe tbody tr th:only-of-type {\n",
       "        vertical-align: middle;\n",
       "    }\n",
       "\n",
       "    .dataframe tbody tr th {\n",
       "        vertical-align: top;\n",
       "    }\n",
       "\n",
       "    .dataframe thead th {\n",
       "        text-align: right;\n",
       "    }\n",
       "</style>\n",
       "<table border=\"1\" class=\"dataframe\">\n",
       "  <thead>\n",
       "    <tr style=\"text-align: right;\">\n",
       "      <th></th>\n",
       "      <th>age</th>\n",
       "      <th>bmi</th>\n",
       "      <th>smoker</th>\n",
       "      <th>charges</th>\n",
       "    </tr>\n",
       "  </thead>\n",
       "  <tbody>\n",
       "    <tr>\n",
       "      <th>1106</th>\n",
       "      <td>49</td>\n",
       "      <td>29.925</td>\n",
       "      <td>0</td>\n",
       "      <td>8988.15875</td>\n",
       "    </tr>\n",
       "    <tr>\n",
       "      <th>1321</th>\n",
       "      <td>62</td>\n",
       "      <td>26.695</td>\n",
       "      <td>1</td>\n",
       "      <td>28101.33305</td>\n",
       "    </tr>\n",
       "    <tr>\n",
       "      <th>2313</th>\n",
       "      <td>57</td>\n",
       "      <td>20.100</td>\n",
       "      <td>0</td>\n",
       "      <td>12032.32600</td>\n",
       "    </tr>\n",
       "    <tr>\n",
       "      <th>2274</th>\n",
       "      <td>22</td>\n",
       "      <td>39.500</td>\n",
       "      <td>0</td>\n",
       "      <td>1682.59700</td>\n",
       "    </tr>\n",
       "    <tr>\n",
       "      <th>1432</th>\n",
       "      <td>18</td>\n",
       "      <td>38.665</td>\n",
       "      <td>0</td>\n",
       "      <td>3393.35635</td>\n",
       "    </tr>\n",
       "  </tbody>\n",
       "</table>\n",
       "</div>"
      ],
      "text/plain": [
       "      age     bmi  smoker      charges\n",
       "1106   49  29.925       0   8988.15875\n",
       "1321   62  26.695       1  28101.33305\n",
       "2313   57  20.100       0  12032.32600\n",
       "2274   22  39.500       0   1682.59700\n",
       "1432   18  38.665       0   3393.35635"
      ]
     },
     "execution_count": 38,
     "metadata": {},
     "output_type": "execute_result"
    }
   ],
   "source": [
    "df.head()"
   ]
  },
  {
   "cell_type": "code",
   "execution_count": 39,
   "id": "8b43c4a3",
   "metadata": {},
   "outputs": [
    {
     "data": {
      "text/html": [
       "<style>#sk-container-id-1 {color: black;background-color: white;}#sk-container-id-1 pre{padding: 0;}#sk-container-id-1 div.sk-toggleable {background-color: white;}#sk-container-id-1 label.sk-toggleable__label {cursor: pointer;display: block;width: 100%;margin-bottom: 0;padding: 0.3em;box-sizing: border-box;text-align: center;}#sk-container-id-1 label.sk-toggleable__label-arrow:before {content: \"▸\";float: left;margin-right: 0.25em;color: #696969;}#sk-container-id-1 label.sk-toggleable__label-arrow:hover:before {color: black;}#sk-container-id-1 div.sk-estimator:hover label.sk-toggleable__label-arrow:before {color: black;}#sk-container-id-1 div.sk-toggleable__content {max-height: 0;max-width: 0;overflow: hidden;text-align: left;background-color: #f0f8ff;}#sk-container-id-1 div.sk-toggleable__content pre {margin: 0.2em;color: black;border-radius: 0.25em;background-color: #f0f8ff;}#sk-container-id-1 input.sk-toggleable__control:checked~div.sk-toggleable__content {max-height: 200px;max-width: 100%;overflow: auto;}#sk-container-id-1 input.sk-toggleable__control:checked~label.sk-toggleable__label-arrow:before {content: \"▾\";}#sk-container-id-1 div.sk-estimator input.sk-toggleable__control:checked~label.sk-toggleable__label {background-color: #d4ebff;}#sk-container-id-1 div.sk-label input.sk-toggleable__control:checked~label.sk-toggleable__label {background-color: #d4ebff;}#sk-container-id-1 input.sk-hidden--visually {border: 0;clip: rect(1px 1px 1px 1px);clip: rect(1px, 1px, 1px, 1px);height: 1px;margin: -1px;overflow: hidden;padding: 0;position: absolute;width: 1px;}#sk-container-id-1 div.sk-estimator {font-family: monospace;background-color: #f0f8ff;border: 1px dotted black;border-radius: 0.25em;box-sizing: border-box;margin-bottom: 0.5em;}#sk-container-id-1 div.sk-estimator:hover {background-color: #d4ebff;}#sk-container-id-1 div.sk-parallel-item::after {content: \"\";width: 100%;border-bottom: 1px solid gray;flex-grow: 1;}#sk-container-id-1 div.sk-label:hover label.sk-toggleable__label {background-color: #d4ebff;}#sk-container-id-1 div.sk-serial::before {content: \"\";position: absolute;border-left: 1px solid gray;box-sizing: border-box;top: 0;bottom: 0;left: 50%;z-index: 0;}#sk-container-id-1 div.sk-serial {display: flex;flex-direction: column;align-items: center;background-color: white;padding-right: 0.2em;padding-left: 0.2em;position: relative;}#sk-container-id-1 div.sk-item {position: relative;z-index: 1;}#sk-container-id-1 div.sk-parallel {display: flex;align-items: stretch;justify-content: center;background-color: white;position: relative;}#sk-container-id-1 div.sk-item::before, #sk-container-id-1 div.sk-parallel-item::before {content: \"\";position: absolute;border-left: 1px solid gray;box-sizing: border-box;top: 0;bottom: 0;left: 50%;z-index: -1;}#sk-container-id-1 div.sk-parallel-item {display: flex;flex-direction: column;z-index: 1;position: relative;background-color: white;}#sk-container-id-1 div.sk-parallel-item:first-child::after {align-self: flex-end;width: 50%;}#sk-container-id-1 div.sk-parallel-item:last-child::after {align-self: flex-start;width: 50%;}#sk-container-id-1 div.sk-parallel-item:only-child::after {width: 0;}#sk-container-id-1 div.sk-dashed-wrapped {border: 1px dashed gray;margin: 0 0.4em 0.5em 0.4em;box-sizing: border-box;padding-bottom: 0.4em;background-color: white;}#sk-container-id-1 div.sk-label label {font-family: monospace;font-weight: bold;display: inline-block;line-height: 1.2em;}#sk-container-id-1 div.sk-label-container {text-align: center;}#sk-container-id-1 div.sk-container {/* jupyter's `normalize.less` sets `[hidden] { display: none; }` but bootstrap.min.css set `[hidden] { display: none !important; }` so we also need the `!important` here to be able to override the default hidden behavior on the sphinx rendered scikit-learn.org. See: https://github.com/scikit-learn/scikit-learn/issues/21755 */display: inline-block !important;position: relative;}#sk-container-id-1 div.sk-text-repr-fallback {display: none;}</style><div id=\"sk-container-id-1\" class=\"sk-top-container\"><div class=\"sk-text-repr-fallback\"><pre>XGBRegressor(base_score=None, booster=None, callbacks=None,\n",
       "             colsample_bylevel=None, colsample_bynode=None,\n",
       "             colsample_bytree=None, device=None, early_stopping_rounds=None,\n",
       "             enable_categorical=False, eval_metric=None, feature_types=None,\n",
       "             gamma=None, grow_policy=None, importance_type=None,\n",
       "             interaction_constraints=None, learning_rate=None, max_bin=None,\n",
       "             max_cat_threshold=None, max_cat_to_onehot=None,\n",
       "             max_delta_step=None, max_depth=None, max_leaves=None,\n",
       "             min_child_weight=None, missing=nan, monotone_constraints=None,\n",
       "             multi_strategy=None, n_estimators=None, n_jobs=None,\n",
       "             num_parallel_tree=None, random_state=None, ...)</pre><b>In a Jupyter environment, please rerun this cell to show the HTML representation or trust the notebook. <br />On GitHub, the HTML representation is unable to render, please try loading this page with nbviewer.org.</b></div><div class=\"sk-container\" hidden><div class=\"sk-item\"><div class=\"sk-estimator sk-toggleable\"><input class=\"sk-toggleable__control sk-hidden--visually\" id=\"sk-estimator-id-1\" type=\"checkbox\" checked><label for=\"sk-estimator-id-1\" class=\"sk-toggleable__label sk-toggleable__label-arrow\">XGBRegressor</label><div class=\"sk-toggleable__content\"><pre>XGBRegressor(base_score=None, booster=None, callbacks=None,\n",
       "             colsample_bylevel=None, colsample_bynode=None,\n",
       "             colsample_bytree=None, device=None, early_stopping_rounds=None,\n",
       "             enable_categorical=False, eval_metric=None, feature_types=None,\n",
       "             gamma=None, grow_policy=None, importance_type=None,\n",
       "             interaction_constraints=None, learning_rate=None, max_bin=None,\n",
       "             max_cat_threshold=None, max_cat_to_onehot=None,\n",
       "             max_delta_step=None, max_depth=None, max_leaves=None,\n",
       "             min_child_weight=None, missing=nan, monotone_constraints=None,\n",
       "             multi_strategy=None, n_estimators=None, n_jobs=None,\n",
       "             num_parallel_tree=None, random_state=None, ...)</pre></div></div></div></div></div>"
      ],
      "text/plain": [
       "XGBRegressor(base_score=None, booster=None, callbacks=None,\n",
       "             colsample_bylevel=None, colsample_bynode=None,\n",
       "             colsample_bytree=None, device=None, early_stopping_rounds=None,\n",
       "             enable_categorical=False, eval_metric=None, feature_types=None,\n",
       "             gamma=None, grow_policy=None, importance_type=None,\n",
       "             interaction_constraints=None, learning_rate=None, max_bin=None,\n",
       "             max_cat_threshold=None, max_cat_to_onehot=None,\n",
       "             max_delta_step=None, max_depth=None, max_leaves=None,\n",
       "             min_child_weight=None, missing=nan, monotone_constraints=None,\n",
       "             multi_strategy=None, n_estimators=None, n_jobs=None,\n",
       "             num_parallel_tree=None, random_state=None, ...)"
      ]
     },
     "execution_count": 39,
     "metadata": {},
     "output_type": "execute_result"
    }
   ],
   "source": [
    "xgb = XGBRegressor()\n",
    "xgb.fit(x_train, y_train)"
   ]
  },
  {
   "cell_type": "code",
   "execution_count": 40,
   "id": "cd8a7da8",
   "metadata": {},
   "outputs": [],
   "source": [
    "y_pred = xgb.predict(x_test)"
   ]
  },
  {
   "cell_type": "code",
   "execution_count": 41,
   "id": "1e786d6a",
   "metadata": {},
   "outputs": [
    {
     "data": {
      "text/plain": [
       "array([ 8509.256 , 28046.326 , 12036.563 ,  1874.779 ,  4453.6475,\n",
       "       23525.684 ,  7369.894 , 47259.21  , 14074.491 ,  3296.9348,\n",
       "       13246.339 , 11295.16  ,  3613.1814, 15552.685 ,  4280.5938,\n",
       "        5066.607 , 23025.34  , 10079.357 ,  4143.444 ,  6589.7563,\n",
       "       11577.548 , 58049.676 , 19361.043 , 49057.188 , 34326.777 ,\n",
       "        9240.834 ,  1620.7955, 14297.367 , 17888.508 ,  2279.8916,\n",
       "       10632.344 ,  3861.7112,  6589.7563, 16185.643 , 25580.867 ,\n",
       "       10228.105 ,  2201.473 ,  7049.5425,  6600.4146, 20964.312 ,\n",
       "        4118.281 ,  6600.4146,  8684.804 ,  3339.351 ,  1883.5398,\n",
       "       50094.984 ,  4186.846 , 44715.586 ,  3512.7869,  5960.12  ,\n",
       "       43481.902 ,  9636.511 ,  2345.371 ,  4569.035 ,  3426.805 ,\n",
       "       12115.132 ,  4699.6255,  2032.3053,  5930.12  ,  8591.347 ,\n",
       "       14895.741 , 11295.466 , 19236.299 ,  1129.0419, 10704.139 ,\n",
       "       10944.872 ,  3999.403 ,  3558.9602,  6882.182 ,  7369.894 ,\n",
       "        7861.228 ,  7838.0815,  6853.4507, 14633.417 , 12827.923 ,\n",
       "       12443.155 ,  1983.4076,  8009.658 ,  4097.538 , 11685.305 ,\n",
       "       15967.287 ,  3986.623 , 25195.617 ,  7067.7866,  1129.0419,\n",
       "       39605.95  ,  3951.649 , 11143.959 , 49433.87  ,  1882.1232,\n",
       "       36828.97  , 11307.163 ,  1849.7095, 15958.395 ,  2375.2021,\n",
       "        6538.401 , 40231.06  ,  4939.854 ,  8394.792 ,  8815.398 ,\n",
       "        2241.4097, 25618.871 ,  8590.849 ,  4613.127 ,  4759.754 ,\n",
       "        2057.6577, 12036.563 ,  4495.338 ,  5122.236 ,  2112.8728,\n",
       "       12149.706 , 19458.781 , 10906.436 , 17472.248 ,  9501.168 ,\n",
       "       16711.455 ,  4115.3823,  9381.274 ,  2279.919 , 11685.699 ,\n",
       "        2546.5715, 10686.642 , 45011.97  , 14199.959 ,  3562.7827,\n",
       "        7478.4277, 11491.192 , 21742.482 ,  4183.0737,  4955.389 ,\n",
       "       10429.058 ,  9088.141 , 41716.32  ,  7103.126 ,  4190.149 ,\n",
       "       15839.241 ,  5881.8945,  9338.489 ,  3545.162 , 10217.256 ,\n",
       "        1753.2235,  7379.7393, 13879.464 , 23324.258 , 12498.533 ,\n",
       "        9409.145 , 46379.844 ,  8076.9575,  6303.62  , 13155.354 ,\n",
       "       17443.914 , 14507.791 , 41214.086 , 19153.578 , 17304.623 ,\n",
       "        2375.2021,  9956.51  ,  5439.3765, 11386.319 ,  4243.919 ,\n",
       "        1095.3535, 11307.163 , 15033.409 ,  2220.8142,  3512.7869,\n",
       "       11332.886 , 25508.955 ,  4186.846 ,  8022.942 , 11658.999 ,\n",
       "       16038.897 , 16660.193 ,  5773.0713, 29625.217 , 11843.042 ,\n",
       "        9239.538 , 11834.975 , 18858.617 ,  1987.6836, 46855.125 ,\n",
       "       10895.669 ,  3861.7112, 14114.422 ,  6434.5186, 46707.6   ,\n",
       "        9772.998 , 18864.846 , 38108.797 ,  6836.272 , 33944.99  ,\n",
       "        3336.4636, 13175.17  , 10398.114 ,  7819.1846, 16355.08  ,\n",
       "       13731.503 ,  8680.679 , 15754.713 , 47341.973 ,  5920.445 ,\n",
       "       12138.141 ,  9547.892 ,  2253.2424,  2286.9373,  4390.739 ,\n",
       "        9519.423 , 11601.028 ,  4948.432 ,  8840.483 ,  7792.588 ,\n",
       "       47486.848 ,  2912.916 ,  9527.86  , 10200.367 ,  9101.452 ,\n",
       "        6034.0713, 19264.201 , 41742.5   ,  1829.427 ,  3663.6792,\n",
       "        7937.897 ,  5492.97  ,  1547.0343,  9179.212 ,  8757.041 ,\n",
       "        4063.6907, 11152.61  ,  3592.7112,  3809.8276, 43177.28  ,\n",
       "       17482.488 , 18864.846 , 25786.145 ,  7833.8003,  4724.1196,\n",
       "        5194.565 , 10944.872 , 18465.61  , 14970.542 ,  2279.8916,\n",
       "        8644.446 ,  3715.7585, 34946.797 , 15593.193 ,  4724.1196,\n",
       "        4350.337 , 49433.87  ,  4911.644 , 38610.94  , 17858.994 ,\n",
       "        4888.215 ,  5400.6646, 14327.475 ,  1983.7382,  9814.923 ,\n",
       "       11563.588 , 12115.132 ,  2220.8142,  2467.283 ,  7523.0796,\n",
       "        2712.905 , 12003.391 , 15331.663 , 39903.46  , 21252.316 ,\n",
       "        6786.1074,  9042.211 , 11143.959 ,  7523.0796, 10490.302 ,\n",
       "        6920.7295, 13380.697 ,  5714.8584, 11420.814 , 24715.1   ,\n",
       "        3891.2632,  1807.8114,  6462.5913, 36913.883 , 18599.203 ,\n",
       "       14129.594 ,  9805.059 ,  2299.117 , 11050.834 ,  2439.9058,\n",
       "        2279.919 ,  2933.686 ,  7833.8003,  3436.1946,  1905.8075,\n",
       "        4190.149 , 15806.508 , 11563.588 ,  4115.3823,  8447.236 ,\n",
       "       14251.197 ,  6890.16  ,  5173.9126,  4734.189 , 11084.866 ,\n",
       "       11741.431 , 11486.989 , 34936.2   ,  5737.914 ,  4034.6555,\n",
       "        1662.684 ,  9118.982 , 39796.293 , 13246.339 , 12353.673 ,\n",
       "        5459.8823, 14295.06  ,  3426.805 , 11386.319 ,  2034.4558,\n",
       "        4529.6826,  2829.9263, 11879.349 , 11152.61  ,  1807.8114,\n",
       "       27717.621 ,  8394.792 ,  5151.09  ,  9284.305 , 12870.71  ,\n",
       "       44297.934 , 13525.482 , 44715.586 , 11685.699 , 50094.984 ,\n",
       "       12443.155 ,  2703.2302, 35856.527 , 15754.713 , 12694.624 ,\n",
       "       10429.058 , 47486.848 , 12394.542 , 12916.127 ,  4101.1924,\n",
       "        6716.9136,  1547.0343, 13670.067 ,  4347.456 ,  6920.7295,\n",
       "        2513.589 ,  5714.8584,  6785.737 , 38267.164 , 13655.408 ,\n",
       "        6853.4507,  2546.5715,  2432.143 ,  1747.3835, 11250.947 ,\n",
       "        3089.9902, 19611.375 ,  3311.7798,  7108.468 ,  7067.7866,\n",
       "       10520.067 , 12831.769 , 12626.68  , 12307.75  ,  9786.575 ,\n",
       "       16942.191 , 13156.201 ,  7819.1846,  9407.218 ,  9356.32  ,\n",
       "        6436.008 ,  4955.389 , 10009.452 ,  6437.4927,  4101.1924,\n",
       "       14626.726 ,  2650.5767, 11576.48  , 12946.893 , 12917.28  ,\n",
       "        9957.958 , 40931.17  , 25295.217 , 20716.818 ,  3132.1812,\n",
       "       11930.956 ,  5642.656 , 14094.726 ,  6368.406 ,  7468.194 ,\n",
       "        2590.0642, 44426.28  ,  2547.748 ,  4571.433 , 40833.61  ,\n",
       "        7261.618 , 35496.39  ,  6493.922 ,  9442.237 ,  1983.7382,\n",
       "       14669.333 ,  1849.7095, 44313.863 ,  1565.8418,  3802.0596,\n",
       "        4743.727 , 14156.508 ,  6757.749 , 11838.485 , 11830.918 ,\n",
       "        4636.382 ,  1409.177 , 17081.846 , 14925.284 ,  4126.532 ,\n",
       "        4814.262 , 36676.504 , 11829.697 , 17745.232 ,  9544.952 ,\n",
       "       11834.975 ,  7049.5425, 32827.63  , 48551.61  , 13137.191 ,\n",
       "       11295.742 ,  2501.9114,  6452.982 ,  4579.026 ,  5798.452 ,\n",
       "       23132.469 , 19956.102 , 28697.748 , 39674.562 ,  3000.8572,\n",
       "        9334.115 ,  9765.604 , 33090.824 ,  5355.672 , 10398.114 ,\n",
       "        3334.9258,  6696.095 ,  3663.6792, 20210.23  , 16185.643 ,\n",
       "       12003.391 ,  3323.1484,  4699.6255, 11292.927 , 40846.5   ,\n",
       "        9779.977 ,  3174.0474,  5881.8945, 14583.926 ,  4743.727 ,\n",
       "        9575.546 ,  2371.0947, 12946.893 , 15987.585 ,  6611.7397,\n",
       "        4088.4932,  2514.765 , 11905.39  ,  6072.7314,  6642.5093,\n",
       "       11688.28  , 33835.18  ,  6716.9136,  8421.717 ,  6750.6123,\n",
       "        7956.235 , 15754.713 , 37288.707 , 34165.152 , 12169.927 ,\n",
       "       44426.28  , 11741.431 , 12751.165 , 14106.861 ,  2748.4512,\n",
       "       10228.105 ,  5182.646 ,  2467.283 ,  9279.012 ,  5743.8335,\n",
       "       26815.293 ,  4790.5806,  9076.076 , 11838.485 , 14799.726 ,\n",
       "        3830.5083,  2828.2544, 12624.476 ,  2286.9373, 13137.191 ,\n",
       "        1960.1448,  2836.0496, 29432.99  , 14663.701 ,  6437.4927,\n",
       "       11898.167 , 25901.373 ,  8349.4   ,  2828.2544, 30727.37  ,\n",
       "       15814.996 ,  1694.2188,  4888.215 ,  1270.6201, 14074.491 ,\n",
       "        9684.717 , 23412.766 ,  4302.1865,  7349.457 , 11336.162 ,\n",
       "       17173.977 ,  8018.333 , 45902.418 , 13228.194 ,  6527.912 ,\n",
       "       14583.926 , 13520.251 ,  2432.143 , 37207.58  , 14508.398 ,\n",
       "       39649.027 , 10200.367 ,  2624.6365, 46517.68  , 11477.504 ,\n",
       "        6784.241 , 19119.19  , 45263.582 , 48392.793 , 11390.444 ,\n",
       "       12417.251 ,  7866.2803,  6231.155 ,  9101.452 ,  3712.314 ,\n",
       "        1882.1232, 11690.167 ,  4981.5327, 13365.113 , 23910.102 ,\n",
       "        6786.1074, 16355.08  , 11127.782 , 55676.152 , 17836.266 ,\n",
       "        2936.8179,  8233.799 , 34300.99  ,  6600.4146, 10616.079 ],\n",
       "      dtype=float32)"
      ]
     },
     "execution_count": 41,
     "metadata": {},
     "output_type": "execute_result"
    }
   ],
   "source": [
    "y_pred"
   ]
  },
  {
   "cell_type": "code",
   "execution_count": 42,
   "id": "54da7616",
   "metadata": {},
   "outputs": [],
   "source": [
    "df['Prediction'] = xgb.predict(x_test)"
   ]
  },
  {
   "cell_type": "code",
   "execution_count": 43,
   "id": "0215c9d9",
   "metadata": {},
   "outputs": [
    {
     "data": {
      "text/html": [
       "<div>\n",
       "<style scoped>\n",
       "    .dataframe tbody tr th:only-of-type {\n",
       "        vertical-align: middle;\n",
       "    }\n",
       "\n",
       "    .dataframe tbody tr th {\n",
       "        vertical-align: top;\n",
       "    }\n",
       "\n",
       "    .dataframe thead th {\n",
       "        text-align: right;\n",
       "    }\n",
       "</style>\n",
       "<table border=\"1\" class=\"dataframe\">\n",
       "  <thead>\n",
       "    <tr style=\"text-align: right;\">\n",
       "      <th></th>\n",
       "      <th>age</th>\n",
       "      <th>bmi</th>\n",
       "      <th>smoker</th>\n",
       "      <th>charges</th>\n",
       "      <th>Prediction</th>\n",
       "    </tr>\n",
       "  </thead>\n",
       "  <tbody>\n",
       "    <tr>\n",
       "      <th>1106</th>\n",
       "      <td>49</td>\n",
       "      <td>29.925</td>\n",
       "      <td>0</td>\n",
       "      <td>8988.15875</td>\n",
       "      <td>8509.255859</td>\n",
       "    </tr>\n",
       "    <tr>\n",
       "      <th>1321</th>\n",
       "      <td>62</td>\n",
       "      <td>26.695</td>\n",
       "      <td>1</td>\n",
       "      <td>28101.33305</td>\n",
       "      <td>28046.326172</td>\n",
       "    </tr>\n",
       "    <tr>\n",
       "      <th>2313</th>\n",
       "      <td>57</td>\n",
       "      <td>20.100</td>\n",
       "      <td>0</td>\n",
       "      <td>12032.32600</td>\n",
       "      <td>12036.563477</td>\n",
       "    </tr>\n",
       "    <tr>\n",
       "      <th>2274</th>\n",
       "      <td>22</td>\n",
       "      <td>39.500</td>\n",
       "      <td>0</td>\n",
       "      <td>1682.59700</td>\n",
       "      <td>1874.779053</td>\n",
       "    </tr>\n",
       "    <tr>\n",
       "      <th>1432</th>\n",
       "      <td>18</td>\n",
       "      <td>38.665</td>\n",
       "      <td>0</td>\n",
       "      <td>3393.35635</td>\n",
       "      <td>4453.647461</td>\n",
       "    </tr>\n",
       "  </tbody>\n",
       "</table>\n",
       "</div>"
      ],
      "text/plain": [
       "      age     bmi  smoker      charges    Prediction\n",
       "1106   49  29.925       0   8988.15875   8509.255859\n",
       "1321   62  26.695       1  28101.33305  28046.326172\n",
       "2313   57  20.100       0  12032.32600  12036.563477\n",
       "2274   22  39.500       0   1682.59700   1874.779053\n",
       "1432   18  38.665       0   3393.35635   4453.647461"
      ]
     },
     "execution_count": 43,
     "metadata": {},
     "output_type": "execute_result"
    }
   ],
   "source": [
    "df.head()"
   ]
  },
  {
   "cell_type": "code",
   "execution_count": 44,
   "id": "85cac0f7",
   "metadata": {},
   "outputs": [
    {
     "name": "stdout",
     "output_type": "stream",
     "text": [
      "0.9383147814199693\n"
     ]
    }
   ],
   "source": [
    "print(r2_score(y_test, y_pred))"
   ]
  },
  {
   "cell_type": "code",
   "execution_count": 45,
   "id": "54e79f36",
   "metadata": {},
   "outputs": [
    {
     "name": "stdout",
     "output_type": "stream",
     "text": [
      "Average absolute error:  $1512.58\n"
     ]
    }
   ],
   "source": [
    "mae = mean_absolute_error(y_test, y_pred)\n",
    "print('Average absolute error: ', '${:.2f}'.format(mae))"
   ]
  },
  {
   "cell_type": "code",
   "execution_count": 46,
   "id": "f8f79799",
   "metadata": {},
   "outputs": [],
   "source": [
    "param_grids = {\n",
    "    'n_estimators': [100,300,500],\n",
    "    'learning_rate': [0.01, 0.05, 0.1],\n",
    "    'max_depth': [3,5,7,9]\n",
    "}"
   ]
  },
  {
   "cell_type": "code",
   "execution_count": 47,
   "id": "688af3d4",
   "metadata": {},
   "outputs": [],
   "source": [
    "Grid = GridSearchCV(xgb, param_grids, cv = 10, scoring = 'neg_mean_squared_error')"
   ]
  },
  {
   "cell_type": "code",
   "execution_count": 48,
   "id": "24f869ff",
   "metadata": {},
   "outputs": [
    {
     "data": {
      "text/html": [
       "<style>#sk-container-id-2 {color: black;background-color: white;}#sk-container-id-2 pre{padding: 0;}#sk-container-id-2 div.sk-toggleable {background-color: white;}#sk-container-id-2 label.sk-toggleable__label {cursor: pointer;display: block;width: 100%;margin-bottom: 0;padding: 0.3em;box-sizing: border-box;text-align: center;}#sk-container-id-2 label.sk-toggleable__label-arrow:before {content: \"▸\";float: left;margin-right: 0.25em;color: #696969;}#sk-container-id-2 label.sk-toggleable__label-arrow:hover:before {color: black;}#sk-container-id-2 div.sk-estimator:hover label.sk-toggleable__label-arrow:before {color: black;}#sk-container-id-2 div.sk-toggleable__content {max-height: 0;max-width: 0;overflow: hidden;text-align: left;background-color: #f0f8ff;}#sk-container-id-2 div.sk-toggleable__content pre {margin: 0.2em;color: black;border-radius: 0.25em;background-color: #f0f8ff;}#sk-container-id-2 input.sk-toggleable__control:checked~div.sk-toggleable__content {max-height: 200px;max-width: 100%;overflow: auto;}#sk-container-id-2 input.sk-toggleable__control:checked~label.sk-toggleable__label-arrow:before {content: \"▾\";}#sk-container-id-2 div.sk-estimator input.sk-toggleable__control:checked~label.sk-toggleable__label {background-color: #d4ebff;}#sk-container-id-2 div.sk-label input.sk-toggleable__control:checked~label.sk-toggleable__label {background-color: #d4ebff;}#sk-container-id-2 input.sk-hidden--visually {border: 0;clip: rect(1px 1px 1px 1px);clip: rect(1px, 1px, 1px, 1px);height: 1px;margin: -1px;overflow: hidden;padding: 0;position: absolute;width: 1px;}#sk-container-id-2 div.sk-estimator {font-family: monospace;background-color: #f0f8ff;border: 1px dotted black;border-radius: 0.25em;box-sizing: border-box;margin-bottom: 0.5em;}#sk-container-id-2 div.sk-estimator:hover {background-color: #d4ebff;}#sk-container-id-2 div.sk-parallel-item::after {content: \"\";width: 100%;border-bottom: 1px solid gray;flex-grow: 1;}#sk-container-id-2 div.sk-label:hover label.sk-toggleable__label {background-color: #d4ebff;}#sk-container-id-2 div.sk-serial::before {content: \"\";position: absolute;border-left: 1px solid gray;box-sizing: border-box;top: 0;bottom: 0;left: 50%;z-index: 0;}#sk-container-id-2 div.sk-serial {display: flex;flex-direction: column;align-items: center;background-color: white;padding-right: 0.2em;padding-left: 0.2em;position: relative;}#sk-container-id-2 div.sk-item {position: relative;z-index: 1;}#sk-container-id-2 div.sk-parallel {display: flex;align-items: stretch;justify-content: center;background-color: white;position: relative;}#sk-container-id-2 div.sk-item::before, #sk-container-id-2 div.sk-parallel-item::before {content: \"\";position: absolute;border-left: 1px solid gray;box-sizing: border-box;top: 0;bottom: 0;left: 50%;z-index: -1;}#sk-container-id-2 div.sk-parallel-item {display: flex;flex-direction: column;z-index: 1;position: relative;background-color: white;}#sk-container-id-2 div.sk-parallel-item:first-child::after {align-self: flex-end;width: 50%;}#sk-container-id-2 div.sk-parallel-item:last-child::after {align-self: flex-start;width: 50%;}#sk-container-id-2 div.sk-parallel-item:only-child::after {width: 0;}#sk-container-id-2 div.sk-dashed-wrapped {border: 1px dashed gray;margin: 0 0.4em 0.5em 0.4em;box-sizing: border-box;padding-bottom: 0.4em;background-color: white;}#sk-container-id-2 div.sk-label label {font-family: monospace;font-weight: bold;display: inline-block;line-height: 1.2em;}#sk-container-id-2 div.sk-label-container {text-align: center;}#sk-container-id-2 div.sk-container {/* jupyter's `normalize.less` sets `[hidden] { display: none; }` but bootstrap.min.css set `[hidden] { display: none !important; }` so we also need the `!important` here to be able to override the default hidden behavior on the sphinx rendered scikit-learn.org. See: https://github.com/scikit-learn/scikit-learn/issues/21755 */display: inline-block !important;position: relative;}#sk-container-id-2 div.sk-text-repr-fallback {display: none;}</style><div id=\"sk-container-id-2\" class=\"sk-top-container\"><div class=\"sk-text-repr-fallback\"><pre>GridSearchCV(cv=10,\n",
       "             estimator=XGBRegressor(base_score=None, booster=None,\n",
       "                                    callbacks=None, colsample_bylevel=None,\n",
       "                                    colsample_bynode=None,\n",
       "                                    colsample_bytree=None, device=None,\n",
       "                                    early_stopping_rounds=None,\n",
       "                                    enable_categorical=False, eval_metric=None,\n",
       "                                    feature_types=None, gamma=None,\n",
       "                                    grow_policy=None, importance_type=None,\n",
       "                                    interaction_constraints=None,\n",
       "                                    learning_rate=None,...\n",
       "                                    max_cat_to_onehot=None, max_delta_step=None,\n",
       "                                    max_depth=None, max_leaves=None,\n",
       "                                    min_child_weight=None, missing=nan,\n",
       "                                    monotone_constraints=None,\n",
       "                                    multi_strategy=None, n_estimators=None,\n",
       "                                    n_jobs=None, num_parallel_tree=None,\n",
       "                                    random_state=None, ...),\n",
       "             param_grid={&#x27;learning_rate&#x27;: [0.01, 0.05, 0.1],\n",
       "                         &#x27;max_depth&#x27;: [3, 5, 7, 9],\n",
       "                         &#x27;n_estimators&#x27;: [100, 300, 500]},\n",
       "             scoring=&#x27;neg_mean_squared_error&#x27;)</pre><b>In a Jupyter environment, please rerun this cell to show the HTML representation or trust the notebook. <br />On GitHub, the HTML representation is unable to render, please try loading this page with nbviewer.org.</b></div><div class=\"sk-container\" hidden><div class=\"sk-item sk-dashed-wrapped\"><div class=\"sk-label-container\"><div class=\"sk-label sk-toggleable\"><input class=\"sk-toggleable__control sk-hidden--visually\" id=\"sk-estimator-id-2\" type=\"checkbox\" ><label for=\"sk-estimator-id-2\" class=\"sk-toggleable__label sk-toggleable__label-arrow\">GridSearchCV</label><div class=\"sk-toggleable__content\"><pre>GridSearchCV(cv=10,\n",
       "             estimator=XGBRegressor(base_score=None, booster=None,\n",
       "                                    callbacks=None, colsample_bylevel=None,\n",
       "                                    colsample_bynode=None,\n",
       "                                    colsample_bytree=None, device=None,\n",
       "                                    early_stopping_rounds=None,\n",
       "                                    enable_categorical=False, eval_metric=None,\n",
       "                                    feature_types=None, gamma=None,\n",
       "                                    grow_policy=None, importance_type=None,\n",
       "                                    interaction_constraints=None,\n",
       "                                    learning_rate=None,...\n",
       "                                    max_cat_to_onehot=None, max_delta_step=None,\n",
       "                                    max_depth=None, max_leaves=None,\n",
       "                                    min_child_weight=None, missing=nan,\n",
       "                                    monotone_constraints=None,\n",
       "                                    multi_strategy=None, n_estimators=None,\n",
       "                                    n_jobs=None, num_parallel_tree=None,\n",
       "                                    random_state=None, ...),\n",
       "             param_grid={&#x27;learning_rate&#x27;: [0.01, 0.05, 0.1],\n",
       "                         &#x27;max_depth&#x27;: [3, 5, 7, 9],\n",
       "                         &#x27;n_estimators&#x27;: [100, 300, 500]},\n",
       "             scoring=&#x27;neg_mean_squared_error&#x27;)</pre></div></div></div><div class=\"sk-parallel\"><div class=\"sk-parallel-item\"><div class=\"sk-item\"><div class=\"sk-label-container\"><div class=\"sk-label sk-toggleable\"><input class=\"sk-toggleable__control sk-hidden--visually\" id=\"sk-estimator-id-3\" type=\"checkbox\" ><label for=\"sk-estimator-id-3\" class=\"sk-toggleable__label sk-toggleable__label-arrow\">estimator: XGBRegressor</label><div class=\"sk-toggleable__content\"><pre>XGBRegressor(base_score=None, booster=None, callbacks=None,\n",
       "             colsample_bylevel=None, colsample_bynode=None,\n",
       "             colsample_bytree=None, device=None, early_stopping_rounds=None,\n",
       "             enable_categorical=False, eval_metric=None, feature_types=None,\n",
       "             gamma=None, grow_policy=None, importance_type=None,\n",
       "             interaction_constraints=None, learning_rate=None, max_bin=None,\n",
       "             max_cat_threshold=None, max_cat_to_onehot=None,\n",
       "             max_delta_step=None, max_depth=None, max_leaves=None,\n",
       "             min_child_weight=None, missing=nan, monotone_constraints=None,\n",
       "             multi_strategy=None, n_estimators=None, n_jobs=None,\n",
       "             num_parallel_tree=None, random_state=None, ...)</pre></div></div></div><div class=\"sk-serial\"><div class=\"sk-item\"><div class=\"sk-estimator sk-toggleable\"><input class=\"sk-toggleable__control sk-hidden--visually\" id=\"sk-estimator-id-4\" type=\"checkbox\" ><label for=\"sk-estimator-id-4\" class=\"sk-toggleable__label sk-toggleable__label-arrow\">XGBRegressor</label><div class=\"sk-toggleable__content\"><pre>XGBRegressor(base_score=None, booster=None, callbacks=None,\n",
       "             colsample_bylevel=None, colsample_bynode=None,\n",
       "             colsample_bytree=None, device=None, early_stopping_rounds=None,\n",
       "             enable_categorical=False, eval_metric=None, feature_types=None,\n",
       "             gamma=None, grow_policy=None, importance_type=None,\n",
       "             interaction_constraints=None, learning_rate=None, max_bin=None,\n",
       "             max_cat_threshold=None, max_cat_to_onehot=None,\n",
       "             max_delta_step=None, max_depth=None, max_leaves=None,\n",
       "             min_child_weight=None, missing=nan, monotone_constraints=None,\n",
       "             multi_strategy=None, n_estimators=None, n_jobs=None,\n",
       "             num_parallel_tree=None, random_state=None, ...)</pre></div></div></div></div></div></div></div></div></div></div>"
      ],
      "text/plain": [
       "GridSearchCV(cv=10,\n",
       "             estimator=XGBRegressor(base_score=None, booster=None,\n",
       "                                    callbacks=None, colsample_bylevel=None,\n",
       "                                    colsample_bynode=None,\n",
       "                                    colsample_bytree=None, device=None,\n",
       "                                    early_stopping_rounds=None,\n",
       "                                    enable_categorical=False, eval_metric=None,\n",
       "                                    feature_types=None, gamma=None,\n",
       "                                    grow_policy=None, importance_type=None,\n",
       "                                    interaction_constraints=None,\n",
       "                                    learning_rate=None,...\n",
       "                                    max_cat_to_onehot=None, max_delta_step=None,\n",
       "                                    max_depth=None, max_leaves=None,\n",
       "                                    min_child_weight=None, missing=nan,\n",
       "                                    monotone_constraints=None,\n",
       "                                    multi_strategy=None, n_estimators=None,\n",
       "                                    n_jobs=None, num_parallel_tree=None,\n",
       "                                    random_state=None, ...),\n",
       "             param_grid={'learning_rate': [0.01, 0.05, 0.1],\n",
       "                         'max_depth': [3, 5, 7, 9],\n",
       "                         'n_estimators': [100, 300, 500]},\n",
       "             scoring='neg_mean_squared_error')"
      ]
     },
     "execution_count": 48,
     "metadata": {},
     "output_type": "execute_result"
    }
   ],
   "source": [
    "Grid.fit(x_train, y_train)"
   ]
  },
  {
   "cell_type": "code",
   "execution_count": 53,
   "id": "3096e1b9",
   "metadata": {},
   "outputs": [],
   "source": [
    "best_params = Grid.best_params_\n",
    "best_score = np.abs(Grid.best_score_)"
   ]
  },
  {
   "cell_type": "code",
   "execution_count": 54,
   "id": "7565eaf9",
   "metadata": {},
   "outputs": [
    {
     "name": "stdout",
     "output_type": "stream",
     "text": [
      "{'learning_rate': 0.1, 'max_depth': 9, 'n_estimators': 300}\n"
     ]
    }
   ],
   "source": [
    "print(best_params)"
   ]
  },
  {
   "cell_type": "code",
   "execution_count": 55,
   "id": "791d432e",
   "metadata": {},
   "outputs": [
    {
     "name": "stdout",
     "output_type": "stream",
     "text": [
      "10714292.095521528\n"
     ]
    }
   ],
   "source": [
    "print(best_score)"
   ]
  },
  {
   "cell_type": "code",
   "execution_count": 56,
   "id": "4b0c1dc8",
   "metadata": {},
   "outputs": [
    {
     "name": "stdout",
     "output_type": "stream",
     "text": [
      "[ 8904.544  28123.31   12042.635   1986.6166  3594.5815 24107.072\n",
      " 10292.294  47290.51   16487.889   3010.3406 13333.833  10933.463\n",
      "  3363.6018 19053.592   4251.1875  5631.0874 27748.498   9651.088\n",
      "  3953.7205  7067.2393 11233.039  58265.36   19580.12   48839.98\n",
      " 33697.812   8973.05    1601.2126 14198.777  24015.145   1325.6573\n",
      " 10615.251   4395.4673  7067.2393 17827.924  27831.879   9440.737\n",
      "  1735.8159  8684.217   7039.438  20707.521   4432.635   7039.438\n",
      "  9183.721   3541.944   1812.5647 48679.43    4131.3896 43402.535\n",
      "  4092.0696  6127.084  43831.41    9412.264   2559.2156  4721.891\n",
      "  3796.039  12125.829   4124.768   2037.0409  6053.387   8555.208\n",
      " 17367.389  15303.998  23756.436   2573.515  10803.259  11004.413\n",
      "  3922.6858  3739.6318  6564.349  10292.294   7425.34    8109.283\n",
      "  9068.752  14285.185  11250.175   9313.215   1757.3983  7584.7983\n",
      "  3729.7612 11548.296  21857.844   2850.2395 32034.502   7794.9453\n",
      "  2573.515  39220.445   3225.283  11146.529  49568.984   1386.3287\n",
      " 35653.125  10602.492   1752.9302 16314.331   2614.708   6311.864\n",
      " 39804.31    4836.587   8066.12    8723.307   2660.4814 24727.11\n",
      "  7382.69    5110.204   4503.422   2555.373  12042.635   4711.835\n",
      "  6313.528   2009.2358 12195.912  21175.404  10717.915  17370.93\n",
      "  9749.628  19894.793   4531.9624  9061.417   2433.1301 11520.663\n",
      "  2720.8547 10941.323  44702.094  14091.785   4338.4805  7701.755\n",
      " 11418.669  21874.781   4430.6997  5138.418  16295.586   9085.077\n",
      " 40702.65    4449.8086  4050.48   13923.649   5047.428   9323.011\n",
      "  3314.1245 11220.872   1753.2731  7719.5464 16477.387  22389.16\n",
      " 11703.546   9785.327  46196.504   7417.297   6231.3066 12189.186\n",
      " 17696.05   14417.217  41617.074  19209.105  17070.18    2614.708\n",
      "  9583.995   5441.9624 10530.566   4028.7947  1107.714  10602.492\n",
      " 14249.87    2006.3202  4092.0696  9383.582  25491.846   4131.3896\n",
      "  8106.7256 11863.78   15996.184  13418.755   5650.705  28943.637\n",
      " 10917.937   8801.477  11904.607  18156.672   2102.6194 47020.324\n",
      " 10340.009   4395.4673 13781.506   6579.065  46572.76   11327.885\n",
      " 17723.93   38666.18    7328.3115 33845.598   3218.268  13468.566\n",
      " 11602.512   7642.641  17034.574  16929.453   7532.02   20537.479\n",
      " 47280.34    6082.716  12419.984   9559.4375  1472.7299  2730.167\n",
      "  3843.8022 10276.516  12550.908   5009.1274  8404.575   7709.02\n",
      " 47250.32    2066.9602  9692.272   7905.2754  8961.097   5608.928\n",
      " 25902.65   41575.57    1731.1975  3707.387   5479.9316  5047.4917\n",
      "  1575.4827  9849.487   9157.255   4431.704  11017.631   3671.6506\n",
      "  2895.2874 44185.76   22115.191  17723.93   24845.453   6290.7837\n",
      "  4927.426   4694.478  11004.413  20546.885  14604.106   1325.6573\n",
      "  8881.771   3447.1226 34977.43   16008.237   4927.426   4399.327\n",
      " 49568.984   4301.3794 38771.383  22793.95    4072.581   5283.614\n",
      " 14316.753   1839.682   9449.158  11810.031  12125.829   2006.3202\n",
      "  1939.3785  7213.1455  2005.279  12326.802  15246.286  38918.074\n",
      " 21483.318   7221.1143  8180.062  11146.529   7213.1455  8859.725\n",
      "  6895.906  13421.303   5988.899  11158.609  25548.74    3657.756\n",
      "  1876.4009  6178.385  35957.51   23280.373  16664.809  10043.451\n",
      "  2286.1646 12458.298   2549.3384  2433.1301  3199.525   6290.7837\n",
      "  3134.286   2120.1023  4050.48   15035.837  11810.031   4531.9624\n",
      "  8569.335  14269.716   6379.383   5359.4766  4986.26   10683.88\n",
      " 10593.742  11488.274  34673.727   5568.079   3033.1497  1716.6108\n",
      "  8790.391  39734.58   13333.833  10859.199   5931.2944 15172.411\n",
      "  3796.039  10530.566   1952.5845  3637.1187  2397.2593  8362.11\n",
      " 11017.631   1876.4009 27789.102   8066.12    5334.368  10971.677\n",
      " 12615.177  43337.035  13099.44   43402.535  11520.663  48679.43\n",
      "  9313.215   2697.1716 35855.54   20537.479  12946.754  16295.586\n",
      " 47250.32   12630.002  13653.075   2394.3025  3367.4236  1575.4827\n",
      " 14303.99    4919.0884  6895.906   2566.2744  5988.899   6926.662\n",
      " 38106.914  13197.103   9068.752   2140.0203  2054.2239  1748.314\n",
      " 11295.308   3330.6272 19912.29    3166.0518  7263.676   7794.9453\n",
      "  8332.966  12083.062  12555.537  11858.807   9470.212  17203.785\n",
      " 13391.917   7642.641   9594.409   9382.775   6835.7295  5138.418\n",
      "  9747.637  13305.283   2394.3025 14871.276   1896.4381 11119.1\n",
      " 12439.622  12595.882   8537.765  40923.2    24043.918  21182.76\n",
      "  3313.6194 11426.562   6953.9463 12475.954   6581.9795  7124.1064\n",
      "  2583.332  45030.41    2511.2007  4823.3623 40840.223   7734.6514\n",
      " 35639.043   6130.1523  8471.296   1839.682  14852.446   1752.9302\n",
      " 44460.773   1636.3173  3654.893   4705.7324 14153.24    7045.432\n",
      " 10205.463  11014.374   4213.3623  1665.6389 16744.572  14962.86\n",
      "  4037.267   5067.9697 36317.96   11370.881  17538.342   9813.28\n",
      " 11904.607   8684.217  36241.45   47999.027  13561.109  10365.132\n",
      "  2131.0332  5431.4062  5061.8335  4625.619  26888.77   19039.162\n",
      " 29009.867  39816.12    2428.1824  8414.67    9622.19   33221.066\n",
      "  5235.807  11602.512   3372.5085  6254.262   3707.387  22411.645\n",
      " 17827.924  12326.802   3002.5508  4124.768  11713.462  41150.47\n",
      "  9669.913   2732.922   5047.428  13627.643   4705.7324  8839.769\n",
      "  2336.1765 12439.622  16623.27    6796.4717  4159.4775  2363.7932\n",
      " 11907.4375  5955.129   4509.325  11540.997  36777.926   3367.4236\n",
      "  7866.1953  7213.099   6155.8525 20537.479  37651.297  34039.445\n",
      " 12060.615  45030.41   10593.742  12839.503  17304.656   2805.731\n",
      "  9440.737   4232.451   1939.3785  8428.009   5619.518  26921.342\n",
      "  5500.81    9112.8955 10205.463  15091.411   3822.1804  4642.331\n",
      " 12774.839   2730.167  13561.109   1373.6646  3043.682  30063.918\n",
      " 18408.082  13305.283  11774.523  25520.018   8229.67    4642.331\n",
      " 35989.805  15829.675   1657.4174  4072.581   1172.4702 16487.889\n",
      "  9674.289  23284.46    2199.501   6831.2456 10763.497  17087.682\n",
      "  8571.357  44706.117  10177.164   6316.916  13627.643  13473.933\n",
      "  2054.2239 37393.254  13904.527  39248.574   7905.2754  2303.2324\n",
      " 47099.574  10799.946   5693.507  18494.783  44319.957  48233.223\n",
      " 10692.087  12372.734   7718.      6556.7715  8961.097   2610.2485\n",
      "  1386.3287 11839.023   4196.922  13403.142  22776.703   7221.1143\n",
      " 17034.574  11325.623  61618.57   17323.525   2902.6262  7017.8047\n",
      " 34297.645   7039.438  10217.454 ]\n"
     ]
    }
   ],
   "source": [
    "xgb = XGBRegressor(learning_rate = 0.1, n_estimators = 500, max_depth = 7)\n",
    "xgb.fit(x_train, y_train)\n",
    "y_pred1 = xgb.predict(x_test)\n",
    "print(y_pred1)"
   ]
  },
  {
   "cell_type": "code",
   "execution_count": 57,
   "id": "11ab1ae4",
   "metadata": {},
   "outputs": [
    {
     "data": {
      "text/html": [
       "<div>\n",
       "<style scoped>\n",
       "    .dataframe tbody tr th:only-of-type {\n",
       "        vertical-align: middle;\n",
       "    }\n",
       "\n",
       "    .dataframe tbody tr th {\n",
       "        vertical-align: top;\n",
       "    }\n",
       "\n",
       "    .dataframe thead th {\n",
       "        text-align: right;\n",
       "    }\n",
       "</style>\n",
       "<table border=\"1\" class=\"dataframe\">\n",
       "  <thead>\n",
       "    <tr style=\"text-align: right;\">\n",
       "      <th></th>\n",
       "      <th>age</th>\n",
       "      <th>bmi</th>\n",
       "      <th>smoker</th>\n",
       "      <th>charges</th>\n",
       "      <th>Prediction</th>\n",
       "      <th>Prediction-Optimized</th>\n",
       "    </tr>\n",
       "  </thead>\n",
       "  <tbody>\n",
       "    <tr>\n",
       "      <th>605</th>\n",
       "      <td>51</td>\n",
       "      <td>34.100</td>\n",
       "      <td>0</td>\n",
       "      <td>9283.56200</td>\n",
       "      <td>9381.274414</td>\n",
       "      <td>9061.416992</td>\n",
       "    </tr>\n",
       "    <tr>\n",
       "      <th>572</th>\n",
       "      <td>30</td>\n",
       "      <td>43.120</td>\n",
       "      <td>0</td>\n",
       "      <td>4753.63680</td>\n",
       "      <td>4569.035156</td>\n",
       "      <td>4721.891113</td>\n",
       "    </tr>\n",
       "    <tr>\n",
       "      <th>1177</th>\n",
       "      <td>40</td>\n",
       "      <td>27.400</td>\n",
       "      <td>0</td>\n",
       "      <td>6496.88600</td>\n",
       "      <td>7833.800293</td>\n",
       "      <td>6290.783691</td>\n",
       "    </tr>\n",
       "    <tr>\n",
       "      <th>210</th>\n",
       "      <td>20</td>\n",
       "      <td>33.000</td>\n",
       "      <td>0</td>\n",
       "      <td>1980.07000</td>\n",
       "      <td>2432.143066</td>\n",
       "      <td>2054.223877</td>\n",
       "    </tr>\n",
       "    <tr>\n",
       "      <th>1623</th>\n",
       "      <td>31</td>\n",
       "      <td>38.390</td>\n",
       "      <td>0</td>\n",
       "      <td>4463.20510</td>\n",
       "      <td>10200.367188</td>\n",
       "      <td>7905.275391</td>\n",
       "    </tr>\n",
       "    <tr>\n",
       "      <th>1102</th>\n",
       "      <td>29</td>\n",
       "      <td>38.940</td>\n",
       "      <td>0</td>\n",
       "      <td>3471.40960</td>\n",
       "      <td>4529.682617</td>\n",
       "      <td>3637.118652</td>\n",
       "    </tr>\n",
       "    <tr>\n",
       "      <th>282</th>\n",
       "      <td>30</td>\n",
       "      <td>27.645</td>\n",
       "      <td>0</td>\n",
       "      <td>4237.12655</td>\n",
       "      <td>4186.846191</td>\n",
       "      <td>4131.389648</td>\n",
       "    </tr>\n",
       "    <tr>\n",
       "      <th>2020</th>\n",
       "      <td>51</td>\n",
       "      <td>39.700</td>\n",
       "      <td>0</td>\n",
       "      <td>9391.34600</td>\n",
       "      <td>9338.489258</td>\n",
       "      <td>9323.010742</td>\n",
       "    </tr>\n",
       "    <tr>\n",
       "      <th>1776</th>\n",
       "      <td>48</td>\n",
       "      <td>35.625</td>\n",
       "      <td>0</td>\n",
       "      <td>10736.87075</td>\n",
       "      <td>11477.503906</td>\n",
       "      <td>10799.946289</td>\n",
       "    </tr>\n",
       "    <tr>\n",
       "      <th>1954</th>\n",
       "      <td>49</td>\n",
       "      <td>31.900</td>\n",
       "      <td>0</td>\n",
       "      <td>11552.90400</td>\n",
       "      <td>13246.338867</td>\n",
       "      <td>13333.833008</td>\n",
       "    </tr>\n",
       "  </tbody>\n",
       "</table>\n",
       "</div>"
      ],
      "text/plain": [
       "      age     bmi  smoker      charges    Prediction  Prediction-Optimized\n",
       "605    51  34.100       0   9283.56200   9381.274414           9061.416992\n",
       "572    30  43.120       0   4753.63680   4569.035156           4721.891113\n",
       "1177   40  27.400       0   6496.88600   7833.800293           6290.783691\n",
       "210    20  33.000       0   1980.07000   2432.143066           2054.223877\n",
       "1623   31  38.390       0   4463.20510  10200.367188           7905.275391\n",
       "1102   29  38.940       0   3471.40960   4529.682617           3637.118652\n",
       "282    30  27.645       0   4237.12655   4186.846191           4131.389648\n",
       "2020   51  39.700       0   9391.34600   9338.489258           9323.010742\n",
       "1776   48  35.625       0  10736.87075  11477.503906          10799.946289\n",
       "1954   49  31.900       0  11552.90400  13246.338867          13333.833008"
      ]
     },
     "execution_count": 57,
     "metadata": {},
     "output_type": "execute_result"
    }
   ],
   "source": [
    "df['Prediction-Optimized'] = xgb.predict(x_test)\n",
    "df.sample(10)"
   ]
  },
  {
   "cell_type": "code",
   "execution_count": 58,
   "id": "3ba55080",
   "metadata": {},
   "outputs": [
    {
     "name": "stdout",
     "output_type": "stream",
     "text": [
      "0.9431833554914653\n",
      "Average absolute error:  $1089.70\n"
     ]
    }
   ],
   "source": [
    "print(r2_score(y_test, y_pred1))\n",
    "mae1 = mean_absolute_error(y_test, y_pred1)\n",
    "print('Average absolute error: ', '${:.2f}'.format(mae1))"
   ]
  },
  {
   "cell_type": "code",
   "execution_count": null,
   "id": "68e2e7c7",
   "metadata": {},
   "outputs": [],
   "source": [
    "xgb.predict(pd.DataFrame([[25, 24, 0]], columns = ['age', 'bmi', 'smoker']))"
   ]
  },
  {
   "cell_type": "code",
   "execution_count": null,
   "id": "84b03e0e",
   "metadata": {},
   "outputs": [],
   "source": [
    "xgb.predict(pd.DataFrame([[55, 34.7, 1]], columns = ['age', 'bmi', 'smoker']))"
   ]
  },
  {
   "cell_type": "code",
   "execution_count": 59,
   "id": "482c9ba6",
   "metadata": {},
   "outputs": [],
   "source": [
    "pickle.dump(xgb, open('xgb.pkl', 'wb'))"
   ]
  },
  {
   "cell_type": "code",
   "execution_count": null,
   "id": "a5fa778c",
   "metadata": {},
   "outputs": [],
   "source": [
    "Alternative code for above\n",
    "import pickle\n",
    "with open('xgb.pkl','wb') as file:\n",
    "  pickle.dump(xgb, file)\"\"\""
   ]
  },
  {
   "cell_type": "code",
   "execution_count": null,
   "id": "97e77d6d",
   "metadata": {},
   "outputs": [],
   "source": []
  },
  {
   "cell_type": "code",
   "execution_count": null,
   "id": "7c793c5d",
   "metadata": {},
   "outputs": [],
   "source": []
  }
 ],
 "metadata": {
  "kernelspec": {
   "display_name": "Python 3 (ipykernel)",
   "language": "python",
   "name": "python3"
  },
  "language_info": {
   "codemirror_mode": {
    "name": "ipython",
    "version": 3
   },
   "file_extension": ".py",
   "mimetype": "text/x-python",
   "name": "python",
   "nbconvert_exporter": "python",
   "pygments_lexer": "ipython3",
   "version": "3.10.9"
  }
 },
 "nbformat": 4,
 "nbformat_minor": 5
}
